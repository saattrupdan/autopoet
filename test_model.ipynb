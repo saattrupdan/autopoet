{
 "cells": [
  {
   "cell_type": "code",
   "execution_count": 8,
   "metadata": {},
   "outputs": [],
   "source": [
    "from syllablecounter import load_model, get_data\n",
    "import numpy as np"
   ]
  },
  {
   "cell_type": "code",
   "execution_count": 2,
   "metadata": {},
   "outputs": [],
   "source": [
    "def printmd(string, size = 3):\n",
    "    from IPython.display import Markdown, display\n",
    "    display(Markdown(f'<font size = {size}>{string}</font>'))\n",
    "def green(string, deg = 1):\n",
    "    return f'<span style = \"background-color:hsl(125, {deg * 100}%, 50%);\">{string}</span>'\n",
    "def red(string, deg = 1):\n",
    "    return f'<span style = \"background-color:hsl(0, {deg * 100}%, 50%);\">{string}</span>'\n",
    "def ctext(string, deg = 0.5):\n",
    "    deg = 2 * deg - 1\n",
    "    if deg > 0:\n",
    "        return green(string, deg)\n",
    "    else:\n",
    "        return red(string, -deg)"
   ]
  },
  {
   "cell_type": "code",
   "execution_count": 3,
   "metadata": {},
   "outputs": [
    {
     "data": {
      "text/plain": [
       "SyllableCounter(\n",
       "  (embed): Embedding(30, 67)\n",
       "  (rnn): GRU(67, 134, num_layers=3, dropout=0.06533740023319776, bidirectional=True)\n",
       "  (drops): ModuleList(\n",
       "    (0): Dropout(p=0.32429407475156746, inplace=False)\n",
       "  )\n",
       "  (norms): ModuleList(\n",
       "    (0): BatchNorm1d(268, eps=1e-05, momentum=0.1, affine=True, track_running_stats=True)\n",
       "  )\n",
       "  (lins): ModuleList(\n",
       "    (0): Linear(in_features=268, out_features=268, bias=True)\n",
       "  )\n",
       "  (out): Linear(in_features=268, out_features=1, bias=True)\n",
       ")"
      ]
     },
     "execution_count": 3,
     "metadata": {},
     "output_type": "execute_result"
    }
   ],
   "source": [
    "counter = load_model()\n",
    "counter"
   ]
  },
  {
   "cell_type": "code",
   "execution_count": 4,
   "metadata": {},
   "outputs": [
    {
     "data": {
      "text/html": [
       "<div>\n",
       "<style scoped>\n",
       "    .dataframe tbody tr th:only-of-type {\n",
       "        vertical-align: middle;\n",
       "    }\n",
       "\n",
       "    .dataframe tbody tr th {\n",
       "        vertical-align: top;\n",
       "    }\n",
       "\n",
       "    .dataframe thead th {\n",
       "        text-align: right;\n",
       "    }\n",
       "</style>\n",
       "<table border=\"1\" class=\"dataframe\">\n",
       "  <thead>\n",
       "    <tr style=\"text-align: right;\">\n",
       "      <th></th>\n",
       "      <th>words</th>\n",
       "      <th>syl_seq</th>\n",
       "      <th>syls</th>\n",
       "    </tr>\n",
       "  </thead>\n",
       "  <tbody>\n",
       "    <tr>\n",
       "      <th>0</th>\n",
       "      <td>nondistillation</td>\n",
       "      <td>100100100101000</td>\n",
       "      <td>5</td>\n",
       "    </tr>\n",
       "    <tr>\n",
       "      <th>1</th>\n",
       "      <td>transitoriness</td>\n",
       "      <td>10001010101000</td>\n",
       "      <td>5</td>\n",
       "    </tr>\n",
       "    <tr>\n",
       "      <th>2</th>\n",
       "      <td>bipyramidal</td>\n",
       "      <td>10101001100</td>\n",
       "      <td>5</td>\n",
       "    </tr>\n",
       "    <tr>\n",
       "      <th>3</th>\n",
       "      <td>nonciteable</td>\n",
       "      <td>10010001100</td>\n",
       "      <td>4</td>\n",
       "    </tr>\n",
       "    <tr>\n",
       "      <th>4</th>\n",
       "      <td>livebearer</td>\n",
       "      <td>1000100010</td>\n",
       "      <td>3</td>\n",
       "    </tr>\n",
       "  </tbody>\n",
       "</table>\n",
       "</div>"
      ],
      "text/plain": [
       "             words          syl_seq  syls\n",
       "0  nondistillation  100100100101000     5\n",
       "1   transitoriness   10001010101000     5\n",
       "2      bipyramidal      10101001100     5\n",
       "3      nonciteable      10010001100     4\n",
       "4       livebearer       1000100010     3"
      ]
     },
     "execution_count": 4,
     "metadata": {},
     "output_type": "execute_result"
    }
   ],
   "source": [
    "import pandas as pd\n",
    "df = pd.read_csv('data/gutsyls.tsv', sep = '\\t')\n",
    "df.head()"
   ]
  },
  {
   "cell_type": "code",
   "execution_count": 9,
   "metadata": {},
   "outputs": [
    {
     "name": "stdout",
     "output_type": "stream",
     "text": [
      "dessiatine 1001001000 3 4 0.29\n",
      "[('d', 0.88), ('e', 0.11), ('s', 0.12), ('s', 0.88), ('i', 0.12), ('a', 0.89), ('t', 0.88), ('i', 0.12), ('n', 0.11), ('e', 0.11)]\n",
      "hielamon 10010100 3 4 0.19\n",
      "[('h', 0.88), ('i', 0.12), ('e', 0.62), ('l', 0.25), ('a', 0.76), ('m', 0.88), ('o', 0.12), ('n', 0.11)]\n",
      "caramuel 10100100 3 4 0.08\n",
      "[('c', 0.88), ('a', 0.12), ('r', 0.48), ('a', 0.52), ('m', 0.72), ('u', 0.29), ('e', 0.87), ('l', 0.11)]\n",
      "goutt 10001 2 1 0.55\n",
      "[('g', 0.88), ('o', 0.11), ('u', 0.11), ('t', 0.11), ('t', 0.11)]\n",
      "enneagon 10101100 4 3 0.31\n",
      "[('e', 0.89), ('n', 0.12), ('n', 0.88), ('e', 0.12), ('a', 0.12), ('g', 0.81), ('o', 0.18), ('n', 0.11)]\n",
      "argoan 101010 3 2 0.47\n",
      "[('a', 0.88), ('r', 0.12), ('g', 0.88), ('o', 0.12), ('a', 0.12), ('n', 0.11)]\n",
      "feuille 1000010 2 1 0.42\n",
      "[('f', 0.88), ('e', 0.11), ('u', 0.11), ('i', 0.12), ('l', 0.11), ('l', 0.13), ('e', 0.11)]\n",
      "oceanology 1100010110 5 6 0.21\n",
      "[('o', 0.89), ('c', 0.88), ('e', 0.12), ('a', 0.89), ('n', 0.75), ('o', 0.25), ('l', 0.12), ('o', 0.88), ('g', 0.88), ('y', 0.12)]\n",
      "protozological 10010100001100 5 6 0.17\n",
      "[('p', 0.88), ('r', 0.11), ('o', 0.11), ('t', 0.88), ('o', 0.12), ('z', 0.88), ('o', 0.12), ('l', 0.88), ('o', 0.12), ('g', 0.12), ('i', 0.89), ('c', 0.88), ('a', 0.12), ('l', 0.11)]\n",
      "cyllene 1001010 3 2 0.43\n",
      "[('c', 0.88), ('y', 0.11), ('l', 0.11), ('l', 0.88), ('e', 0.12), ('n', 0.11), ('e', 0.11)]\n",
      "fluorinate 1000011000 3 4 0.21\n",
      "[('f', 0.88), ('l', 0.11), ('u', 0.12), ('o', 0.88), ('r', 0.26), ('i', 0.76), ('n', 0.88), ('a', 0.12), ('t', 0.11), ('e', 0.11)]\n",
      "socialite 101000100 3 4 0.2\n",
      "[('s', 0.88), ('o', 0.12), ('c', 0.88), ('i', 0.12), ('a', 0.88), ('l', 0.31), ('i', 0.69), ('t', 0.11), ('e', 0.11)]\n",
      "oileus 110110 4 3 0.34\n",
      "[('o', 0.89), ('i', 0.12), ('l', 0.75), ('e', 0.25), ('u', 0.88), ('s', 0.12)]\n",
      "gemuetlich 1010001000 3 4 0.1\n",
      "[('g', 0.88), ('e', 0.12), ('m', 0.52), ('u', 0.47), ('e', 0.88), ('t', 0.12), ('l', 0.88), ('i', 0.12), ('c', 0.11), ('h', 0.11)]\n",
      "giulietta 100100010 3 4 0.27\n",
      "[('g', 0.88), ('i', 0.11), ('u', 0.12), ('l', 0.81), ('i', 0.19), ('e', 0.87), ('t', 0.12), ('t', 0.88), ('a', 0.12)]\n",
      "reid 1000 1 2 0.61\n",
      "[('r', 0.88), ('e', 0.12), ('i', 0.88), ('d', 0.11)]\n",
      "overgenial 1100100100 4 5 0.12\n",
      "[('o', 0.89), ('v', 0.88), ('e', 0.12), ('r', 0.12), ('g', 0.88), ('e', 0.12), ('n', 0.56), ('i', 0.42), ('a', 0.87), ('l', 0.11)]\n",
      "caccia 100100 2 3 0.48\n",
      "[('c', 0.88), ('a', 0.11), ('c', 0.11), ('c', 0.88), ('i', 0.12), ('a', 0.88)]\n",
      "ewe 110 2 1 0.7\n",
      "[('e', 0.88), ('w', 0.11), ('e', 0.11)]\n",
      "matelass 10011001 4 3 0.24\n",
      "[('m', 0.88), ('a', 0.11), ('t', 0.12), ('e', 0.62), ('l', 0.84), ('a', 0.15), ('s', 0.11), ('s', 0.11)]\n",
      "antirish 10100000 2 3 0.24\n",
      "[('a', 0.89), ('n', 0.12), ('t', 0.88), ('i', 0.12), ('r', 0.29), ('i', 0.7), ('s', 0.11), ('h', 0.11)]\n",
      "katakana 10001000 2 4 0.27\n",
      "[('k', 0.88), ('a', 0.12), ('t', 0.77), ('a', 0.24), ('k', 0.88), ('a', 0.12), ('n', 0.88), ('a', 0.12)]\n",
      "starveling 1000001000 2 3 0.22\n",
      "[('s', 0.88), ('t', 0.11), ('a', 0.11), ('r', 0.11), ('v', 0.77), ('e', 0.23), ('l', 0.12), ('i', 0.88), ('n', 0.11), ('g', 0.11)]\n",
      "lidice 101010 3 2 0.33\n",
      "[('l', 0.88), ('i', 0.12), ('d', 0.73), ('i', 0.26), ('c', 0.11), ('e', 0.11)]\n",
      "hygienic 10100010 3 4 0.37\n",
      "[('h', 0.88), ('y', 0.12), ('g', 0.88), ('i', 0.12), ('e', 0.88), ('n', 0.12), ('i', 0.88), ('c', 0.11)]\n",
      "gerne 10000 2 1 0.55\n",
      "[('g', 0.88), ('e', 0.11), ('r', 0.11), ('n', 0.11), ('e', 0.11)]\n",
      "australian 1001000110 4 3 0.11\n",
      "[('a', 0.89), ('u', 0.11), ('s', 0.12), ('t', 0.88), ('r', 0.12), ('a', 0.11), ('l', 0.46), ('i', 0.53), ('a', 0.11), ('n', 0.11)]\n",
      "razu 1010 3 2 0.61\n",
      "[('r', 0.88), ('a', 0.12), ('z', 0.88), ('u', 0.12)]\n",
      "loiasis 1011100 4 3 0.37\n",
      "[('l', 0.88), ('o', 0.11), ('i', 0.18), ('a', 0.84), ('s', 0.87), ('i', 0.13), ('s', 0.11)]\n",
      "cacaos 101010 3 2 0.23\n",
      "[('c', 0.88), ('a', 0.12), ('c', 0.8), ('a', 0.2), ('o', 0.51), ('s', 0.12)]\n",
      "campaniles 1001010100 4 3 0.17\n",
      "[('c', 0.88), ('a', 0.11), ('m', 0.11), ('p', 0.88), ('a', 0.12), ('n', 0.3), ('i', 0.71), ('l', 0.16), ('e', 0.16), ('s', 0.11)]\n",
      "venezia 1010100 3 4 0.32\n",
      "[('v', 0.88), ('e', 0.12), ('n', 0.77), ('e', 0.23), ('z', 0.88), ('i', 0.12), ('a', 0.88)]\n",
      "kwakiutl 10010110 4 3 0.23\n",
      "[('k', 0.88), ('w', 0.12), ('a', 0.12), ('k', 0.68), ('i', 0.3), ('u', 0.88), ('t', 0.11), ('l', 0.11)]\n",
      "postlaryngeal 1000101001000 4 5 0.14\n",
      "[('p', 0.88), ('o', 0.11), ('s', 0.11), ('t', 0.12), ('l', 0.88), ('a', 0.12), ('r', 0.74), ('y', 0.25), ('n', 0.12), ('g', 0.86), ('e', 0.14), ('a', 0.88), ('l', 0.11)]\n",
      "ordn 1000 1 2 0.42\n",
      "[('o', 0.88), ('r', 0.12), ('d', 0.61), ('n', 0.12)]\n"
     ]
    }
   ],
   "source": [
    "hard_words = {'words': [], 'syl_seq': [], 'syls': []}\n",
    "for idx in np.random.choice(range(len(df)), size = 1000):\n",
    "    yhat = counter.predict(df['words'][idx], return_confidence = True, return_sequence = True)\n",
    "    if yhat['num_syls'] != df['syls'][idx]:\n",
    "        hard_words['words'].append(df['words'][idx])\n",
    "        hard_words['syl_seq'].append(df['syl_seq'][idx])\n",
    "        hard_words['syls'].append(df['syls'][idx])\n",
    "        print(df['words'][idx], df['syl_seq'][idx], df['syls'][idx], yhat['num_syls'], yhat['confidence'])\n",
    "        print(yhat['probs'])"
   ]
  },
  {
   "cell_type": "code",
   "execution_count": 6,
   "metadata": {},
   "outputs": [
    {
     "ename": "KeyboardInterrupt",
     "evalue": "",
     "output_type": "error",
     "traceback": [
      "\u001b[0;31m---------------------------------------------------------------------------\u001b[0m",
      "\u001b[0;31mKeyboardInterrupt\u001b[0m                         Traceback (most recent call last)",
      "\u001b[0;32m~/gitsky/autopoet/venv/lib/python3.6/site-packages/ipykernel/kernelbase.py\u001b[0m in \u001b[0;36m_input_request\u001b[0;34m(self, prompt, ident, parent, password)\u001b[0m\n\u001b[1;32m    883\u001b[0m             \u001b[0;32mtry\u001b[0m\u001b[0;34m:\u001b[0m\u001b[0;34m\u001b[0m\u001b[0;34m\u001b[0m\u001b[0m\n\u001b[0;32m--> 884\u001b[0;31m                 \u001b[0mident\u001b[0m\u001b[0;34m,\u001b[0m \u001b[0mreply\u001b[0m \u001b[0;34m=\u001b[0m \u001b[0mself\u001b[0m\u001b[0;34m.\u001b[0m\u001b[0msession\u001b[0m\u001b[0;34m.\u001b[0m\u001b[0mrecv\u001b[0m\u001b[0;34m(\u001b[0m\u001b[0mself\u001b[0m\u001b[0;34m.\u001b[0m\u001b[0mstdin_socket\u001b[0m\u001b[0;34m,\u001b[0m \u001b[0;36m0\u001b[0m\u001b[0;34m)\u001b[0m\u001b[0;34m\u001b[0m\u001b[0;34m\u001b[0m\u001b[0m\n\u001b[0m\u001b[1;32m    885\u001b[0m             \u001b[0;32mexcept\u001b[0m \u001b[0mException\u001b[0m\u001b[0;34m:\u001b[0m\u001b[0;34m\u001b[0m\u001b[0;34m\u001b[0m\u001b[0m\n",
      "\u001b[0;32m~/gitsky/autopoet/venv/lib/python3.6/site-packages/jupyter_client/session.py\u001b[0m in \u001b[0;36mrecv\u001b[0;34m(self, socket, mode, content, copy)\u001b[0m\n\u001b[1;32m    802\u001b[0m         \u001b[0;32mtry\u001b[0m\u001b[0;34m:\u001b[0m\u001b[0;34m\u001b[0m\u001b[0;34m\u001b[0m\u001b[0m\n\u001b[0;32m--> 803\u001b[0;31m             \u001b[0mmsg_list\u001b[0m \u001b[0;34m=\u001b[0m \u001b[0msocket\u001b[0m\u001b[0;34m.\u001b[0m\u001b[0mrecv_multipart\u001b[0m\u001b[0;34m(\u001b[0m\u001b[0mmode\u001b[0m\u001b[0;34m,\u001b[0m \u001b[0mcopy\u001b[0m\u001b[0;34m=\u001b[0m\u001b[0mcopy\u001b[0m\u001b[0;34m)\u001b[0m\u001b[0;34m\u001b[0m\u001b[0;34m\u001b[0m\u001b[0m\n\u001b[0m\u001b[1;32m    804\u001b[0m         \u001b[0;32mexcept\u001b[0m \u001b[0mzmq\u001b[0m\u001b[0;34m.\u001b[0m\u001b[0mZMQError\u001b[0m \u001b[0;32mas\u001b[0m \u001b[0me\u001b[0m\u001b[0;34m:\u001b[0m\u001b[0;34m\u001b[0m\u001b[0;34m\u001b[0m\u001b[0m\n",
      "\u001b[0;32m~/gitsky/autopoet/venv/lib/python3.6/site-packages/zmq/sugar/socket.py\u001b[0m in \u001b[0;36mrecv_multipart\u001b[0;34m(self, flags, copy, track)\u001b[0m\n\u001b[1;32m    474\u001b[0m         \"\"\"\n\u001b[0;32m--> 475\u001b[0;31m         \u001b[0mparts\u001b[0m \u001b[0;34m=\u001b[0m \u001b[0;34m[\u001b[0m\u001b[0mself\u001b[0m\u001b[0;34m.\u001b[0m\u001b[0mrecv\u001b[0m\u001b[0;34m(\u001b[0m\u001b[0mflags\u001b[0m\u001b[0;34m,\u001b[0m \u001b[0mcopy\u001b[0m\u001b[0;34m=\u001b[0m\u001b[0mcopy\u001b[0m\u001b[0;34m,\u001b[0m \u001b[0mtrack\u001b[0m\u001b[0;34m=\u001b[0m\u001b[0mtrack\u001b[0m\u001b[0;34m)\u001b[0m\u001b[0;34m]\u001b[0m\u001b[0;34m\u001b[0m\u001b[0;34m\u001b[0m\u001b[0m\n\u001b[0m\u001b[1;32m    476\u001b[0m         \u001b[0;31m# have first part already, only loop while more to receive\u001b[0m\u001b[0;34m\u001b[0m\u001b[0;34m\u001b[0m\u001b[0;34m\u001b[0m\u001b[0m\n",
      "\u001b[0;32mzmq/backend/cython/socket.pyx\u001b[0m in \u001b[0;36mzmq.backend.cython.socket.Socket.recv\u001b[0;34m()\u001b[0m\n",
      "\u001b[0;32mzmq/backend/cython/socket.pyx\u001b[0m in \u001b[0;36mzmq.backend.cython.socket.Socket.recv\u001b[0;34m()\u001b[0m\n",
      "\u001b[0;32mzmq/backend/cython/socket.pyx\u001b[0m in \u001b[0;36mzmq.backend.cython.socket._recv_copy\u001b[0;34m()\u001b[0m\n",
      "\u001b[0;32m~/gitsky/autopoet/venv/lib/python3.6/site-packages/zmq/backend/cython/checkrc.pxd\u001b[0m in \u001b[0;36mzmq.backend.cython.checkrc._check_rc\u001b[0;34m()\u001b[0m\n",
      "\u001b[0;31mKeyboardInterrupt\u001b[0m: ",
      "\nDuring handling of the above exception, another exception occurred:\n",
      "\u001b[0;31mKeyboardInterrupt\u001b[0m                         Traceback (most recent call last)",
      "\u001b[0;32m<ipython-input-6-53d0aa6768d5>\u001b[0m in \u001b[0;36m<module>\u001b[0;34m\u001b[0m\n\u001b[1;32m      1\u001b[0m \u001b[0;32mwhile\u001b[0m \u001b[0;32mTrue\u001b[0m\u001b[0;34m:\u001b[0m\u001b[0;34m\u001b[0m\u001b[0;34m\u001b[0m\u001b[0m\n\u001b[0;32m----> 2\u001b[0;31m     \u001b[0mwords\u001b[0m \u001b[0;34m=\u001b[0m \u001b[0minput\u001b[0m\u001b[0;34m(\u001b[0m\u001b[0;34m)\u001b[0m\u001b[0;34m\u001b[0m\u001b[0;34m\u001b[0m\u001b[0m\n\u001b[0m\u001b[1;32m      3\u001b[0m     \u001b[0moutputs\u001b[0m \u001b[0;34m=\u001b[0m \u001b[0mcounter\u001b[0m\u001b[0;34m.\u001b[0m\u001b[0mpredict\u001b[0m\u001b[0;34m(\u001b[0m\u001b[0mwords\u001b[0m\u001b[0;34m,\u001b[0m \u001b[0mreturn_sequence\u001b[0m \u001b[0;34m=\u001b[0m \u001b[0;32mTrue\u001b[0m\u001b[0;34m,\u001b[0m \u001b[0mpred_threshold\u001b[0m \u001b[0;34m=\u001b[0m \u001b[0;36m0.5\u001b[0m\u001b[0;34m)\u001b[0m\u001b[0;34m\u001b[0m\u001b[0;34m\u001b[0m\u001b[0m\n\u001b[1;32m      4\u001b[0m     \u001b[0mstring\u001b[0m \u001b[0;34m=\u001b[0m \u001b[0;34m''\u001b[0m\u001b[0;34m.\u001b[0m\u001b[0mjoin\u001b[0m\u001b[0;34m(\u001b[0m\u001b[0;34m[\u001b[0m\u001b[0mctext\u001b[0m\u001b[0;34m(\u001b[0m\u001b[0;34mf'{char}'\u001b[0m\u001b[0;34m,\u001b[0m \u001b[0mdeg\u001b[0m\u001b[0;34m)\u001b[0m \u001b[0;32mfor\u001b[0m \u001b[0mchar\u001b[0m\u001b[0;34m,\u001b[0m \u001b[0mdeg\u001b[0m \u001b[0;32min\u001b[0m \u001b[0moutputs\u001b[0m\u001b[0;34m[\u001b[0m\u001b[0;34m'probs'\u001b[0m\u001b[0;34m]\u001b[0m\u001b[0;34m]\u001b[0m\u001b[0;34m)\u001b[0m\u001b[0;34m\u001b[0m\u001b[0;34m\u001b[0m\u001b[0m\n\u001b[1;32m      5\u001b[0m     \u001b[0mprintmd\u001b[0m\u001b[0;34m(\u001b[0m\u001b[0;34mf'{string}&nbsp;= {outputs[\"num_syls\"]} syllables'\u001b[0m\u001b[0;34m,\u001b[0m \u001b[0msize\u001b[0m \u001b[0;34m=\u001b[0m \u001b[0;36m5\u001b[0m\u001b[0;34m)\u001b[0m\u001b[0;34m\u001b[0m\u001b[0;34m\u001b[0m\u001b[0m\n",
      "\u001b[0;32m~/gitsky/autopoet/venv/lib/python3.6/site-packages/ipykernel/kernelbase.py\u001b[0m in \u001b[0;36mraw_input\u001b[0;34m(self, prompt)\u001b[0m\n\u001b[1;32m    857\u001b[0m             \u001b[0mself\u001b[0m\u001b[0;34m.\u001b[0m\u001b[0m_parent_ident\u001b[0m\u001b[0;34m,\u001b[0m\u001b[0;34m\u001b[0m\u001b[0;34m\u001b[0m\u001b[0m\n\u001b[1;32m    858\u001b[0m             \u001b[0mself\u001b[0m\u001b[0;34m.\u001b[0m\u001b[0m_parent_header\u001b[0m\u001b[0;34m,\u001b[0m\u001b[0;34m\u001b[0m\u001b[0;34m\u001b[0m\u001b[0m\n\u001b[0;32m--> 859\u001b[0;31m             \u001b[0mpassword\u001b[0m\u001b[0;34m=\u001b[0m\u001b[0;32mFalse\u001b[0m\u001b[0;34m,\u001b[0m\u001b[0;34m\u001b[0m\u001b[0;34m\u001b[0m\u001b[0m\n\u001b[0m\u001b[1;32m    860\u001b[0m         )\n\u001b[1;32m    861\u001b[0m \u001b[0;34m\u001b[0m\u001b[0m\n",
      "\u001b[0;32m~/gitsky/autopoet/venv/lib/python3.6/site-packages/ipykernel/kernelbase.py\u001b[0m in \u001b[0;36m_input_request\u001b[0;34m(self, prompt, ident, parent, password)\u001b[0m\n\u001b[1;32m    887\u001b[0m             \u001b[0;32mexcept\u001b[0m \u001b[0mKeyboardInterrupt\u001b[0m\u001b[0;34m:\u001b[0m\u001b[0;34m\u001b[0m\u001b[0;34m\u001b[0m\u001b[0m\n\u001b[1;32m    888\u001b[0m                 \u001b[0;31m# re-raise KeyboardInterrupt, to truncate traceback\u001b[0m\u001b[0;34m\u001b[0m\u001b[0;34m\u001b[0m\u001b[0;34m\u001b[0m\u001b[0m\n\u001b[0;32m--> 889\u001b[0;31m                 \u001b[0;32mraise\u001b[0m \u001b[0mKeyboardInterrupt\u001b[0m\u001b[0;34m\u001b[0m\u001b[0;34m\u001b[0m\u001b[0m\n\u001b[0m\u001b[1;32m    890\u001b[0m             \u001b[0;32melse\u001b[0m\u001b[0;34m:\u001b[0m\u001b[0;34m\u001b[0m\u001b[0;34m\u001b[0m\u001b[0m\n\u001b[1;32m    891\u001b[0m                 \u001b[0;32mbreak\u001b[0m\u001b[0;34m\u001b[0m\u001b[0;34m\u001b[0m\u001b[0m\n",
      "\u001b[0;31mKeyboardInterrupt\u001b[0m: "
     ]
    }
   ],
   "source": [
    "while True:\n",
    "    words = input()\n",
    "    outputs = counter.predict(words, return_sequence = True, pred_threshold = 0.5)\n",
    "    string = ''.join([ctext(f'{char}', deg) for char, deg in outputs['probs']])\n",
    "    printmd(f'{string}&nbsp;= {outputs[\"num_syls\"]} syllables', size = 5)"
   ]
  },
  {
   "cell_type": "code",
   "execution_count": null,
   "metadata": {},
   "outputs": [],
   "source": []
  }
 ],
 "metadata": {
  "kernelspec": {
   "display_name": "Python 3",
   "language": "python",
   "name": "python3"
  },
  "language_info": {
   "codemirror_mode": {
    "name": "ipython",
    "version": 3
   },
   "file_extension": ".py",
   "mimetype": "text/x-python",
   "name": "python",
   "nbconvert_exporter": "python",
   "pygments_lexer": "ipython3",
   "version": "3.6.8"
  }
 },
 "nbformat": 4,
 "nbformat_minor": 2
}
