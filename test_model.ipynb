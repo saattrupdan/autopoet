{
 "cells": [
  {
   "cell_type": "code",
   "execution_count": 1,
   "metadata": {},
   "outputs": [],
   "source": [
    "from syllablecounter import load_model, get_data"
   ]
  },
  {
   "cell_type": "code",
   "execution_count": 2,
   "metadata": {},
   "outputs": [],
   "source": [
    "def printmd(string, size = 3):\n",
    "    from IPython.display import Markdown, display\n",
    "    display(Markdown(f'<font size = {size}>{string}</font>'))\n",
    "def green(string, deg = 1):\n",
    "    return f'<span style = \"background-color:hsl(125, {deg * 100}%, 50%);\">{string}</span>'\n",
    "def red(string, deg = 1):\n",
    "    return f'<span style = \"background-color:hsl(0, {deg * 100}%, 50%);\">{string}</span>'\n",
    "def ctext(string, deg = 0.5):\n",
    "    deg = 2 * deg - 1\n",
    "    if deg > 0:\n",
    "        return green(string, deg)\n",
    "    else:\n",
    "        return red(string, -deg)"
   ]
  },
  {
   "cell_type": "code",
   "execution_count": 3,
   "metadata": {},
   "outputs": [
    {
     "data": {
      "text/plain": [
       "SyllableCounter(\n",
       "  (embed): Embedding(28, 64)\n",
       "  (rnn): GRU(64, 128, num_layers=3, dropout=0.15, bidirectional=True)\n",
       "  (drops): ModuleList(\n",
       "    (0): Dropout(p=0.5, inplace=False)\n",
       "    (1): Dropout(p=0.5, inplace=False)\n",
       "  )\n",
       "  (norms): ModuleList(\n",
       "    (0): BatchNorm1d(256, eps=1e-05, momentum=0.1, affine=True, track_running_stats=True)\n",
       "    (1): BatchNorm1d(256, eps=1e-05, momentum=0.1, affine=True, track_running_stats=True)\n",
       "  )\n",
       "  (lins): ModuleList(\n",
       "    (0): Linear(in_features=256, out_features=256, bias=True)\n",
       "    (1): Linear(in_features=256, out_features=256, bias=True)\n",
       "  )\n",
       "  (out): Linear(in_features=256, out_features=1, bias=True)\n",
       ")"
      ]
     },
     "execution_count": 3,
     "metadata": {},
     "output_type": "execute_result"
    }
   ],
   "source": [
    "counter = load_model()\n",
    "counter"
   ]
  },
  {
   "cell_type": "code",
   "execution_count": 4,
   "metadata": {},
   "outputs": [
    {
     "data": {
      "text/html": [
       "<div>\n",
       "<style scoped>\n",
       "    .dataframe tbody tr th:only-of-type {\n",
       "        vertical-align: middle;\n",
       "    }\n",
       "\n",
       "    .dataframe tbody tr th {\n",
       "        vertical-align: top;\n",
       "    }\n",
       "\n",
       "    .dataframe thead th {\n",
       "        text-align: right;\n",
       "    }\n",
       "</style>\n",
       "<table border=\"1\" class=\"dataframe\">\n",
       "  <thead>\n",
       "    <tr style=\"text-align: right;\">\n",
       "      <th></th>\n",
       "      <th>words</th>\n",
       "      <th>syl_seq</th>\n",
       "      <th>syls</th>\n",
       "    </tr>\n",
       "  </thead>\n",
       "  <tbody>\n",
       "    <tr>\n",
       "      <th>0</th>\n",
       "      <td>nondistillation</td>\n",
       "      <td>100100100101000</td>\n",
       "      <td>5</td>\n",
       "    </tr>\n",
       "    <tr>\n",
       "      <th>1</th>\n",
       "      <td>transitoriness</td>\n",
       "      <td>10001010101000</td>\n",
       "      <td>5</td>\n",
       "    </tr>\n",
       "    <tr>\n",
       "      <th>2</th>\n",
       "      <td>bipyramidal</td>\n",
       "      <td>10101001100</td>\n",
       "      <td>5</td>\n",
       "    </tr>\n",
       "    <tr>\n",
       "      <th>3</th>\n",
       "      <td>nonciteable</td>\n",
       "      <td>10010001100</td>\n",
       "      <td>4</td>\n",
       "    </tr>\n",
       "    <tr>\n",
       "      <th>4</th>\n",
       "      <td>livebearer</td>\n",
       "      <td>1000100010</td>\n",
       "      <td>3</td>\n",
       "    </tr>\n",
       "  </tbody>\n",
       "</table>\n",
       "</div>"
      ],
      "text/plain": [
       "             words          syl_seq  syls\n",
       "0  nondistillation  100100100101000     5\n",
       "1   transitoriness   10001010101000     5\n",
       "2      bipyramidal      10101001100     5\n",
       "3      nonciteable      10010001100     4\n",
       "4       livebearer       1000100010     3"
      ]
     },
     "execution_count": 4,
     "metadata": {},
     "output_type": "execute_result"
    }
   ],
   "source": [
    "import pandas as pd\n",
    "df = pd.read_csv('data/gutsyls.tsv', sep = '\\t')\n",
    "df.head()"
   ]
  },
  {
   "cell_type": "code",
   "execution_count": 5,
   "metadata": {},
   "outputs": [
    {
     "name": "stdout",
     "output_type": "stream",
     "text": [
      "xtacihuatl 1101010000 4 5 0.22\n",
      "[('x', 0.89), ('t', 0.89), ('a', 0.11), ('c', 0.79), ('i', 0.21), ('h', 0.89), ('u', 0.11), ('a', 0.11), ('t', 0.84), ('l', 0.16)]\n",
      "init 1000 1 2 0.62\n",
      "[('i', 0.89), ('n', 0.12), ('i', 0.88), ('t', 0.11)]\n",
      "bandaranaike 100101010110 6 4 0.2\n",
      "[('b', 0.89), ('a', 0.11), ('n', 0.1), ('d', 0.89), ('a', 0.11), ('r', 0.22), ('a', 0.78), ('n', 0.89), ('a', 0.11), ('i', 0.1), ('k', 0.1), ('e', 0.1)]\n",
      "tandoori 10010001 3 4 0.29\n",
      "[('t', 0.89), ('a', 0.11), ('n', 0.1), ('d', 0.89), ('o', 0.11), ('o', 0.81), ('r', 0.8), ('i', 0.21)]\n",
      "penitente 100110010 4 3 0.37\n",
      "[('p', 0.89), ('e', 0.11), ('n', 0.1), ('i', 0.89), ('t', 0.89), ('e', 0.11), ('n', 0.1), ('t', 0.1), ('e', 0.1)]\n",
      "absinthe 10100000 2 3 0.41\n",
      "[('a', 0.89), ('b', 0.11), ('s', 0.89), ('i', 0.11), ('n', 0.1), ('t', 0.89), ('h', 0.11), ('e', 0.1)]\n",
      "molise 101010 3 2 0.32\n",
      "[('m', 0.89), ('o', 0.11), ('l', 0.31), ('i', 0.73), ('s', 0.12), ('e', 0.11)]\n",
      "liwn 1010 2 1 0.64\n",
      "[('l', 0.89), ('i', 0.11), ('w', 0.1), ('n', 0.1)]\n",
      "lockean 1000110 3 2 0.43\n",
      "[('l', 0.89), ('o', 0.11), ('c', 0.1), ('k', 0.11), ('e', 0.87), ('a', 0.15), ('n', 0.1)]\n",
      "salique 1001000 2 3 0.33\n",
      "[('s', 0.89), ('a', 0.11), ('l', 0.21), ('i', 0.79), ('q', 0.85), ('u', 0.11), ('e', 0.1)]\n",
      "auto-da-f 101001001 4 3 0.45\n",
      "[('a', 0.89), ('u', 0.11), ('t', 0.89), ('o', 0.11), ('d', 0.89), ('a', 0.11), ('f', 0.11)]\n",
      "hereford 10011000 3 2 0.41\n",
      "[('h', 0.89), ('e', 0.11), ('r', 0.1), ('e', 0.1), ('f', 0.89), ('o', 0.11), ('r', 0.1), ('d', 0.1)]\n",
      "aphrodite 100101010 4 3 0.36\n",
      "[('a', 0.89), ('p', 0.11), ('h', 0.1), ('r', 0.89), ('o', 0.11), ('d', 0.89), ('i', 0.11), ('t', 0.1), ('e', 0.1)]\n",
      "glacing 1001100 3 2 0.46\n",
      "[('g', 0.89), ('l', 0.11), ('a', 0.1), ('c', 0.1), ('i', 0.89), ('n', 0.11), ('g', 0.1)]\n",
      "probusiness 10010001000 3 4 0.22\n",
      "[('p', 0.89), ('r', 0.11), ('o', 0.1), ('b', 0.89), ('u', 0.11), ('s', 0.21), ('i', 0.79), ('n', 0.89), ('e', 0.11), ('s', 0.1), ('s', 0.1)]\n",
      "reichsfhrer 10000010100 3 4 0.22\n",
      "[('r', 0.89), ('e', 0.11), ('i', 0.85), ('c', 0.11), ('h', 0.11), ('s', 0.2), ('f', 0.79), ('h', 0.11), ('r', 0.1), ('e', 0.89), ('r', 0.11)]\n",
      "caliche 1010100 3 2 0.46\n",
      "[('c', 0.89), ('a', 0.11), ('l', 0.11), ('i', 0.89), ('c', 0.11), ('h', 0.1), ('e', 0.1)]\n",
      "zospore 1000000 1 3 0.21\n",
      "[('z', 0.89), ('o', 0.11), ('s', 0.21), ('p', 0.78), ('o', 0.11), ('r', 0.55), ('e', 0.12)]\n",
      "paratences 1001100000 3 4 0.3\n",
      "[('p', 0.89), ('a', 0.11), ('r', 0.11), ('a', 0.89), ('t', 0.89), ('e', 0.11), ('n', 0.1), ('c', 0.86), ('e', 0.14), ('s', 0.1)]\n",
      "brul 1001 2 1 0.64\n",
      "[('b', 0.89), ('r', 0.11), ('u', 0.1), ('l', 0.1)]\n",
      "beriosova 100101010 4 5 0.12\n",
      "[('b', 0.89), ('e', 0.11), ('r', 0.22), ('i', 0.78), ('o', 0.88), ('s', 0.6), ('o', 0.41), ('v', 0.89), ('a', 0.11)]\n",
      "huskier 1000110 3 2 0.36\n",
      "[('h', 0.89), ('u', 0.11), ('s', 0.1), ('k', 0.21), ('i', 0.8), ('e', 0.11), ('r', 0.11)]\n",
      "johnnies-come-lately 10001000010000100010 5 6 0.12\n",
      "[('j', 0.89), ('o', 0.11), ('h', 0.1), ('n', 0.1), ('n', 0.89), ('i', 0.11), ('e', 0.1), ('s', 0.12), ('c', 0.88), ('o', 0.11), ('m', 0.15), ('e', 0.86), ('l', 0.89), ('a', 0.11), ('t', 0.1), ('e', 0.1), ('l', 0.9), ('y', 0.11)]\n",
      "baul 1010 2 1 0.62\n",
      "[('b', 0.89), ('a', 0.11), ('u', 0.1), ('l', 0.13)]\n",
      "bartk 10010 2 1 0.57\n",
      "[('b', 0.89), ('a', 0.11), ('r', 0.1), ('t', 0.1), ('k', 0.1)]\n",
      "obad 1000 1 2 0.64\n",
      "[('o', 0.89), ('b', 0.89), ('a', 0.11), ('d', 0.1)]\n",
      "prayerfulness 1000001001000 3 4 0.22\n",
      "[('p', 0.89), ('r', 0.11), ('a', 0.1), ('y', 0.13), ('e', 0.87), ('r', 0.1), ('f', 0.89), ('u', 0.11), ('l', 0.1), ('n', 0.89), ('e', 0.11), ('s', 0.1), ('s', 0.1)]\n",
      "derrire 1001010 3 2 0.46\n",
      "[('d', 0.89), ('e', 0.11), ('r', 0.1), ('r', 0.89), ('i', 0.11), ('r', 0.1), ('e', 0.1)]\n",
      "tumefacient 10101010100 5 4 0.29\n",
      "[('t', 0.89), ('u', 0.11), ('m', 0.89), ('e', 0.11), ('f', 0.89), ('a', 0.11), ('c', 0.89), ('i', 0.11), ('e', 0.1), ('n', 0.1), ('t', 0.1)]\n",
      "glau 1000 2 1 0.64\n",
      "[('g', 0.89), ('l', 0.11), ('a', 0.1), ('u', 0.1)]\n",
      "appoggiaturas 1010010010100 5 6 0.22\n",
      "[('a', 0.89), ('p', 0.11), ('p', 0.89), ('o', 0.11), ('g', 0.1), ('g', 0.89), ('i', 0.11), ('a', 0.89), ('t', 0.89), ('u', 0.11), ('r', 0.88), ('a', 0.13), ('s', 0.11)]\n",
      "guapor 100101 3 2 0.44\n",
      "[('g', 0.89), ('u', 0.11), ('a', 0.1), ('p', 0.83), ('o', 0.17), ('r', 0.1)]\n"
     ]
    }
   ],
   "source": [
    "hard_words = {'words': [], 'syl_seq': [], 'syls': []}\n",
    "for idx in range(1000):\n",
    "    yhat = counter.predict(df['words'][idx], return_confidence = True, return_sequence = True)\n",
    "    if yhat['num_syls'] != df['syls'][idx]:\n",
    "        hard_words['words'].append(df['words'][idx])\n",
    "        hard_words['syl_seq'].append(df['syl_seq'][idx])\n",
    "        hard_words['syls'].append(df['syls'][idx])\n",
    "        print(df['words'][idx], df['syl_seq'][idx], df['syls'][idx], yhat['num_syls'], yhat['confidence'])\n",
    "        print(yhat['probs'])"
   ]
  },
  {
   "cell_type": "code",
   "execution_count": null,
   "metadata": {},
   "outputs": [
    {
     "name": "stdout",
     "output_type": "stream",
     "text": [
      "@test\n"
     ]
    },
    {
     "data": {
      "text/markdown": [
       "<font size = 5><span style = \"background-color:hsl(125, 77.99999713897705%, 50%);\">a </span><span style = \"background-color:hsl(0, 78.00000011920929%, 50%);\">t </span><span style = \"background-color:hsl(125, 77.99999713897705%, 50%);\">t </span><span style = \"background-color:hsl(0, 78.00000011920929%, 50%);\">e </span><span style = \"background-color:hsl(0, 79.99999970197678%, 50%);\">s </span><span style = \"background-color:hsl(0, 79.99999970197678%, 50%);\">t </span>&nbsp;= 2 syllables</font>"
      ],
      "text/plain": [
       "<IPython.core.display.Markdown object>"
      ]
     },
     "metadata": {},
     "output_type": "display_data"
    },
    {
     "name": "stdout",
     "output_type": "stream",
     "text": [
      "wtfhi\n"
     ]
    },
    {
     "data": {
      "text/markdown": [
       "<font size = 5><span style = \"background-color:hsl(125, 77.99999713897705%, 50%);\">w </span><span style = \"background-color:hsl(0, 78.00000011920929%, 50%);\">t </span><span style = \"background-color:hsl(125, 77.99999713897705%, 50%);\">f </span><span style = \"background-color:hsl(0, 78.00000011920929%, 50%);\">h </span><span style = \"background-color:hsl(0, 79.99999970197678%, 50%);\">i </span>&nbsp;= 2 syllables</font>"
      ],
      "text/plain": [
       "<IPython.core.display.Markdown object>"
      ]
     },
     "metadata": {},
     "output_type": "display_data"
    },
    {
     "name": "stdout",
     "output_type": "stream",
     "text": [
      "wtf hi\n"
     ]
    },
    {
     "data": {
      "text/markdown": [
       "<font size = 5><span style = \"background-color:hsl(125, 77.99999713897705%, 50%);\">w </span><span style = \"background-color:hsl(0, 78.00000011920929%, 50%);\">h </span><span style = \"background-color:hsl(0, 79.99999970197678%, 50%);\">a </span><span style = \"background-color:hsl(0, 79.99999970197678%, 50%);\">t </span><span style = \"background-color:hsl(125, 77.99999713897705%, 50%);\">t </span><span style = \"background-color:hsl(0, 78.00000011920929%, 50%);\">h </span><span style = \"background-color:hsl(0, 79.99999970197678%, 50%);\">e </span><span style = \"background-color:hsl(125, 77.99999713897705%, 50%);\">f </span><span style = \"background-color:hsl(0, 78.00000011920929%, 50%);\">u </span><span style = \"background-color:hsl(0, 79.99999970197678%, 50%);\">c </span><span style = \"background-color:hsl(0, 79.99999970197678%, 50%);\">k </span><span style = \"background-color:hsl(125, 77.99999713897705%, 50%);\">h </span><span style = \"background-color:hsl(0, 78.00000011920929%, 50%);\">i </span>&nbsp;= 4 syllables</font>"
      ],
      "text/plain": [
       "<IPython.core.display.Markdown object>"
      ]
     },
     "metadata": {},
     "output_type": "display_data"
    },
    {
     "name": "stdout",
     "output_type": "stream",
     "text": [
      "hi wtf\n"
     ]
    },
    {
     "data": {
      "text/markdown": [
       "<font size = 5><span style = \"background-color:hsl(125, 77.99999713897705%, 50%);\">h </span><span style = \"background-color:hsl(0, 78.00000011920929%, 50%);\">i </span><span style = \"background-color:hsl(125, 77.99999713897705%, 50%);\">w </span><span style = \"background-color:hsl(0, 78.00000011920929%, 50%);\">h </span><span style = \"background-color:hsl(0, 79.99999970197678%, 50%);\">a </span><span style = \"background-color:hsl(0, 79.99999970197678%, 50%);\">t </span><span style = \"background-color:hsl(125, 77.99999713897705%, 50%);\">t </span><span style = \"background-color:hsl(0, 78.00000011920929%, 50%);\">h </span><span style = \"background-color:hsl(0, 79.99999970197678%, 50%);\">e </span><span style = \"background-color:hsl(125, 77.99999713897705%, 50%);\">f </span><span style = \"background-color:hsl(0, 78.00000011920929%, 50%);\">u </span><span style = \"background-color:hsl(0, 79.99999970197678%, 50%);\">c </span><span style = \"background-color:hsl(0, 79.99999970197678%, 50%);\">k </span>&nbsp;= 4 syllables</font>"
      ],
      "text/plain": [
       "<IPython.core.display.Markdown object>"
      ]
     },
     "metadata": {},
     "output_type": "display_data"
    },
    {
     "name": "stdout",
     "output_type": "stream",
     "text": [
      "#test\n"
     ]
    },
    {
     "data": {
      "text/markdown": [
       "<font size = 5><span style = \"background-color:hsl(125, 77.99999713897705%, 50%);\">h </span><span style = \"background-color:hsl(0, 78.00000011920929%, 50%);\">a </span><span style = \"background-color:hsl(0, 79.99999970197678%, 50%);\">s </span><span style = \"background-color:hsl(0, 79.99999970197678%, 50%);\">h </span><span style = \"background-color:hsl(125, 77.99999713897705%, 50%);\">t </span><span style = \"background-color:hsl(0, 78.00000011920929%, 50%);\">a </span><span style = \"background-color:hsl(0, 79.99999970197678%, 50%);\">g </span><span style = \"background-color:hsl(125, 77.99999713897705%, 50%);\">t </span><span style = \"background-color:hsl(0, 78.00000011920929%, 50%);\">e </span><span style = \"background-color:hsl(0, 79.99999970197678%, 50%);\">s </span><span style = \"background-color:hsl(0, 79.99999970197678%, 50%);\">t </span>&nbsp;= 3 syllables</font>"
      ],
      "text/plain": [
       "<IPython.core.display.Markdown object>"
      ]
     },
     "metadata": {},
     "output_type": "display_data"
    }
   ],
   "source": [
    "while True:\n",
    "    words = input()\n",
    "    outputs = counter.predict(words, return_sequence = True, pred_threshold = 0.5)\n",
    "    string = ''.join([ctext(f'{char} ', deg) for char, deg in outputs['probs']])\n",
    "    printmd(f'{string}&nbsp;= {outputs[\"num_syls\"]} syllables', size = 5)"
   ]
  },
  {
   "cell_type": "code",
   "execution_count": null,
   "metadata": {},
   "outputs": [],
   "source": []
  }
 ],
 "metadata": {
  "kernelspec": {
   "display_name": "Python 3",
   "language": "python",
   "name": "python3"
  },
  "language_info": {
   "codemirror_mode": {
    "name": "ipython",
    "version": 3
   },
   "file_extension": ".py",
   "mimetype": "text/x-python",
   "name": "python",
   "nbconvert_exporter": "python",
   "pygments_lexer": "ipython3",
   "version": "3.6.8"
  }
 },
 "nbformat": 4,
 "nbformat_minor": 2
}
