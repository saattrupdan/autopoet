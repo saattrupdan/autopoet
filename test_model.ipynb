{
 "cells": [
  {
   "cell_type": "code",
   "execution_count": 1,
   "metadata": {},
   "outputs": [],
   "source": [
    "from syllablecounter import load_model, get_data\n",
    "import numpy as np"
   ]
  },
  {
   "cell_type": "code",
   "execution_count": 2,
   "metadata": {},
   "outputs": [],
   "source": [
    "def printmd(string, size = 3):\n",
    "    from IPython.display import Markdown, display\n",
    "    display(Markdown(f'<font size = {size}>{string}</font>'))\n",
    "def green(string, deg = 1):\n",
    "    return f'<span style = \"background-color:hsl(125, {deg * 100}%, 50%);\">{string}</span>'\n",
    "def red(string, deg = 1):\n",
    "    return f'<span style = \"background-color:hsl(0, {deg * 100}%, 50%);\">{string}</span>'\n",
    "def ctext(string, deg = 0.5):\n",
    "    deg = 2 * deg - 1\n",
    "    if deg > 0:\n",
    "        return green(string, deg)\n",
    "    else:\n",
    "        return red(string, -deg)"
   ]
  },
  {
   "cell_type": "code",
   "execution_count": 3,
   "metadata": {},
   "outputs": [
    {
     "data": {
      "text/plain": [
       "SyllableCounter(\n",
       "  (embed): Embedding(30, 64)\n",
       "  (rnn): GRU(64, 128, num_layers=3, dropout=0.2, bidirectional=True)\n",
       "  (drops): ModuleList(\n",
       "    (0): Dropout(p=0.5, inplace=False)\n",
       "  )\n",
       "  (norms): ModuleList(\n",
       "    (0): BatchNorm1d(256, eps=1e-05, momentum=0.1, affine=True, track_running_stats=True)\n",
       "  )\n",
       "  (lins): ModuleList(\n",
       "    (0): Linear(in_features=256, out_features=256, bias=True)\n",
       "  )\n",
       "  (out): Linear(in_features=256, out_features=1, bias=True)\n",
       ")"
      ]
     },
     "execution_count": 3,
     "metadata": {},
     "output_type": "execute_result"
    }
   ],
   "source": [
    "counter = load_model()\n",
    "counter"
   ]
  },
  {
   "cell_type": "code",
   "execution_count": 4,
   "metadata": {},
   "outputs": [
    {
     "data": {
      "text/html": [
       "<div>\n",
       "<style scoped>\n",
       "    .dataframe tbody tr th:only-of-type {\n",
       "        vertical-align: middle;\n",
       "    }\n",
       "\n",
       "    .dataframe tbody tr th {\n",
       "        vertical-align: top;\n",
       "    }\n",
       "\n",
       "    .dataframe thead th {\n",
       "        text-align: right;\n",
       "    }\n",
       "</style>\n",
       "<table border=\"1\" class=\"dataframe\">\n",
       "  <thead>\n",
       "    <tr style=\"text-align: right;\">\n",
       "      <th></th>\n",
       "      <th>words</th>\n",
       "      <th>syl_seq</th>\n",
       "      <th>syls</th>\n",
       "    </tr>\n",
       "  </thead>\n",
       "  <tbody>\n",
       "    <tr>\n",
       "      <th>0</th>\n",
       "      <td>nondistillation</td>\n",
       "      <td>100100100101000</td>\n",
       "      <td>5</td>\n",
       "    </tr>\n",
       "    <tr>\n",
       "      <th>1</th>\n",
       "      <td>transitoriness</td>\n",
       "      <td>10001010101000</td>\n",
       "      <td>5</td>\n",
       "    </tr>\n",
       "    <tr>\n",
       "      <th>2</th>\n",
       "      <td>bipyramidal</td>\n",
       "      <td>10101001100</td>\n",
       "      <td>5</td>\n",
       "    </tr>\n",
       "    <tr>\n",
       "      <th>3</th>\n",
       "      <td>nonciteable</td>\n",
       "      <td>10010001100</td>\n",
       "      <td>4</td>\n",
       "    </tr>\n",
       "    <tr>\n",
       "      <th>4</th>\n",
       "      <td>livebearer</td>\n",
       "      <td>1000100010</td>\n",
       "      <td>3</td>\n",
       "    </tr>\n",
       "  </tbody>\n",
       "</table>\n",
       "</div>"
      ],
      "text/plain": [
       "             words          syl_seq  syls\n",
       "0  nondistillation  100100100101000     5\n",
       "1   transitoriness   10001010101000     5\n",
       "2      bipyramidal      10101001100     5\n",
       "3      nonciteable      10010001100     4\n",
       "4       livebearer       1000100010     3"
      ]
     },
     "execution_count": 4,
     "metadata": {},
     "output_type": "execute_result"
    }
   ],
   "source": [
    "import pandas as pd\n",
    "df = pd.read_csv('data/gutsyls.tsv', sep = '\\t')\n",
    "df.head()"
   ]
  },
  {
   "cell_type": "code",
   "execution_count": 5,
   "metadata": {},
   "outputs": [
    {
     "name": "stdout",
     "output_type": "stream",
     "text": [
      "creole 100000 1 2 0.95\n",
      "[('c', 1.0), ('r', 0.0), ('e', 0.01), ('o', 0.98), ('l', 0.02), ('e', 0.0)]\n",
      "halberdier 1001000100 3 4 0.7\n",
      "[('h', 1.0), ('a', 0.0), ('l', 0.0), ('b', 0.99), ('e', 0.0), ('r', 0.0), ('d', 0.89), ('i', 0.14), ('e', 0.94), ('r', 0.01)]\n",
      "diag 1000 1 2 0.97\n",
      "[('d', 1.0), ('i', 0.0), ('a', 0.98), ('g', 0.01)]\n",
      "optime 101010 3 2 0.99\n",
      "[('o', 1.0), ('p', 0.0), ('t', 1.0), ('i', 0.0), ('m', 0.0), ('e', 0.0)]\n",
      "cordinative 10110101000 5 4 0.58\n",
      "[('c', 1.0), ('o', 0.0), ('r', 0.0), ('d', 0.99), ('i', 0.01), ('n', 0.77), ('a', 0.23), ('t', 0.99), ('i', 0.0), ('v', 0.0), ('e', 0.0)]\n",
      "aleichem 11001000 3 4 0.42\n",
      "[('a', 1.0), ('l', 0.74), ('e', 0.25), ('i', 0.83), ('c', 0.95), ('h', 0.0), ('e', 0.04), ('m', 0.01)]\n",
      "saut 1001 2 1 0.96\n",
      "[('s', 0.98), ('a', 0.0), ('u', 0.0), ('t', 0.02)]\n",
      "gps 111 3 1 0.93\n",
      "[('g', 1.0), ('p', 0.02), ('s', 0.05)]\n",
      "neisse 100010 2 1 0.69\n",
      "[('n', 0.97), ('e', 0.0), ('i', 0.27), ('s', 0.02), ('s', 0.02), ('e', 0.0)]\n",
      "monzaemon 100101100 4 3 0.92\n",
      "[('m', 1.0), ('o', 0.0), ('n', 0.0), ('z', 0.99), ('a', 0.0), ('e', 0.0), ('m', 0.96), ('o', 0.03), ('n', 0.0)]\n",
      "philadelphia 100011001011 6 5 0.91\n",
      "[('p', 1.0), ('h', 0.0), ('i', 0.0), ('l', 0.02), ('a', 0.97), ('d', 1.0), ('e', 0.0), ('l', 0.0), ('p', 1.0), ('h', 0.0), ('i', 0.01), ('a', 0.99)]\n",
      "seconda 1001000 2 3 0.44\n",
      "[('s', 1.0), ('e', 0.0), ('c', 0.74), ('o', 0.28), ('n', 0.01), ('d', 0.9), ('a', 0.08)]\n",
      "tyrant 100000 1 2 0.48\n",
      "[('t', 1.0), ('y', 0.0), ('r', 0.69), ('a', 0.3), ('n', 0.0), ('t', 0.01)]\n",
      "chassing 10001100 3 2 0.84\n",
      "[('c', 1.0), ('h', 0.0), ('a', 0.0), ('s', 0.0), ('s', 0.08), ('i', 0.91), ('n', 0.0), ('g', 0.0)]\n",
      "mogene 111000 3 2 0.56\n",
      "[('m', 1.0), ('o', 0.0), ('g', 0.76), ('e', 0.22), ('n', 0.04), ('e', 0.01)]\n",
      "trancedly 100000010 2 3 0.83\n",
      "[('t', 1.0), ('r', 0.0), ('a', 0.0), ('n', 0.0), ('c', 0.01), ('e', 0.85), ('d', 0.0), ('l', 0.99), ('y', 0.0)]\n",
      "prostoon 10010010 3 2 0.36\n",
      "[('p', 1.0), ('r', 0.0), ('o', 0.0), ('s', 0.62), ('t', 0.41), ('o', 0.0), ('o', 0.0), ('n', 0.0)]\n",
      "nyasaland 100101000 3 4 0.6\n",
      "[('n', 1.0), ('y', 0.02), ('a', 0.93), ('s', 0.15), ('a', 0.83), ('l', 0.97), ('a', 0.03), ('n', 0.0), ('d', 0.0)]\n",
      "merrimarauders 10010100000100 4 5 0.2\n",
      "[('m', 1.0), ('e', 0.0), ('r', 0.0), ('r', 1.0), ('i', 0.0), ('m', 0.78), ('a', 0.21), ('r', 0.98), ('a', 0.01), ('u', 0.01), ('d', 0.57), ('e', 0.4), ('r', 0.0), ('s', 0.0)]\n",
      "prochoos 10010010 3 2 0.98\n",
      "[('p', 1.0), ('r', 0.0), ('o', 0.0), ('c', 0.99), ('h', 0.0), ('o', 0.0), ('o', 0.0), ('s', 0.0)]\n",
      "oclock 100000 1 2 0.54\n",
      "[('o', 1.0), ('c', 0.26), ('l', 0.74), ('o', 0.0), ('c', 0.0), ('k', 0.0)]\n",
      "suboverseer 10011001010 5 4 0.98\n",
      "[('s', 1.0), ('u', 0.0), ('b', 0.0), ('o', 1.0), ('v', 1.0), ('e', 0.0), ('r', 0.0), ('s', 0.99), ('e', 0.0), ('e', 0.0), ('r', 0.0)]\n",
      "collegiateness 10010100001000 4 5 0.92\n",
      "[('c', 1.0), ('o', 0.0), ('l', 0.0), ('l', 1.0), ('e', 0.0), ('g', 0.97), ('i', 0.04), ('a', 0.98), ('t', 0.0), ('e', 0.0), ('n', 1.0), ('e', 0.0), ('s', 0.0), ('s', 0.0)]\n",
      "micronesian 10100101010 5 4 0.87\n",
      "[('m', 1.0), ('i', 0.0), ('c', 0.98), ('r', 0.01), ('o', 0.0), ('n', 0.99), ('e', 0.01), ('s', 0.96), ('i', 0.01), ('a', 0.03), ('n', 0.0)]\n",
      "tao 101 2 1 0.94\n",
      "[('t', 0.98), ('a', 0.0), ('o', 0.03)]\n",
      "suboceanic 1001101010 5 4 0.79\n",
      "[('s', 1.0), ('u', 0.0), ('b', 0.08), ('o', 0.92), ('c', 1.0), ('e', 0.0), ('a', 0.07), ('n', 0.0), ('i', 1.0), ('c', 0.0)]\n"
     ]
    }
   ],
   "source": [
    "hard_words = {'words': [], 'syl_seq': [], 'syls': []}\n",
    "for idx in np.random.choice(range(len(df)), size = 1000):\n",
    "    yhat = counter.predict(df['words'][idx], return_confidence = True, return_sequence = True)\n",
    "    if yhat['num_syls'] != df['syls'][idx]:\n",
    "        hard_words['words'].append(df['words'][idx])\n",
    "        hard_words['syl_seq'].append(df['syl_seq'][idx])\n",
    "        hard_words['syls'].append(df['syls'][idx])\n",
    "        print(df['words'][idx], df['syl_seq'][idx], df['syls'][idx], yhat['num_syls'], yhat['confidence'])\n",
    "        print(yhat['probs'])"
   ]
  },
  {
   "cell_type": "code",
   "execution_count": null,
   "metadata": {},
   "outputs": [
    {
     "name": "stdout",
     "output_type": "stream",
     "text": [
      "test test\n"
     ]
    },
    {
     "data": {
      "text/markdown": [
       "<font size = 5><span style = \"background-color:hsl(125, 98.00000190734863%, 50%);\">t</span><span style = \"background-color:hsl(0, 100.0%, 50%);\">e</span><span style = \"background-color:hsl(0, 100.0%, 50%);\">s</span><span style = \"background-color:hsl(0, 98.00000004470348%, 50%);\">t</span><span style = \"background-color:hsl(0, 100.0%, 50%);\"> </span><span style = \"background-color:hsl(125, 98.00000190734863%, 50%);\">t</span><span style = \"background-color:hsl(0, 100.0%, 50%);\">e</span><span style = \"background-color:hsl(0, 100.0%, 50%);\">s</span><span style = \"background-color:hsl(0, 98.00000004470348%, 50%);\">t</span>&nbsp;= 2 syllables</font>"
      ],
      "text/plain": [
       "<IPython.core.display.Markdown object>"
      ]
     },
     "metadata": {},
     "output_type": "display_data"
    }
   ],
   "source": [
    "while True:\n",
    "    words = input()\n",
    "    outputs = counter.predict(words, return_sequence = True, pred_threshold = 0.5)\n",
    "    string = ''.join([ctext(f'{char}', deg) for char, deg in outputs['probs']])\n",
    "    printmd(f'{string}&nbsp;= {outputs[\"num_syls\"]} syllables', size = 5)"
   ]
  },
  {
   "cell_type": "code",
   "execution_count": null,
   "metadata": {},
   "outputs": [],
   "source": []
  }
 ],
 "metadata": {
  "kernelspec": {
   "display_name": "Python 3",
   "language": "python",
   "name": "python3"
  },
  "language_info": {
   "codemirror_mode": {
    "name": "ipython",
    "version": 3
   },
   "file_extension": ".py",
   "mimetype": "text/x-python",
   "name": "python",
   "nbconvert_exporter": "python",
   "pygments_lexer": "ipython3",
   "version": "3.7.6"
  }
 },
 "nbformat": 4,
 "nbformat_minor": 2
}
