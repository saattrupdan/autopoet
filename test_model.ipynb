{
 "cells": [
  {
   "cell_type": "code",
   "execution_count": 1,
   "metadata": {},
   "outputs": [],
   "source": [
    "from syllablecounter import load_model, get_data"
   ]
  },
  {
   "cell_type": "code",
   "execution_count": 2,
   "metadata": {},
   "outputs": [],
   "source": [
    "def printmd(string, size = 3):\n",
    "    from IPython.display import Markdown, display\n",
    "    display(Markdown(f'<font size = {size}>{string}</font>'))\n",
    "def green(string, deg = 1):\n",
    "    return f'<span style = \"background-color:hsl(125, {deg * 100}%, 50%);\">{string}</span>'\n",
    "def red(string, deg = 1):\n",
    "    return f'<span style = \"background-color:hsl(0, {deg * 100}%, 50%);\">{string}</span>'\n",
    "def ctext(string, deg = 0.5):\n",
    "    deg = 2 * deg - 1\n",
    "    if deg > 0:\n",
    "        return green(string, deg)\n",
    "    else:\n",
    "        return red(string, -deg)"
   ]
  },
  {
   "cell_type": "code",
   "execution_count": 3,
   "metadata": {},
   "outputs": [
    {
     "data": {
      "text/plain": [
       "SyllableCounter(\n",
       "  (embed): Embedding(28, 64)\n",
       "  (rnn): GRU(64, 128, num_layers=3, dropout=0.1, bidirectional=True)\n",
       "  (drops): ModuleList(\n",
       "    (0): Dropout(p=0.5, inplace=False)\n",
       "    (1): Dropout(p=0.5, inplace=False)\n",
       "  )\n",
       "  (norms): ModuleList(\n",
       "    (0): BatchNorm1d(256, eps=1e-05, momentum=0.1, affine=True, track_running_stats=True)\n",
       "    (1): BatchNorm1d(256, eps=1e-05, momentum=0.1, affine=True, track_running_stats=True)\n",
       "  )\n",
       "  (lins): ModuleList(\n",
       "    (0): Linear(in_features=256, out_features=256, bias=True)\n",
       "    (1): Linear(in_features=256, out_features=256, bias=True)\n",
       "  )\n",
       "  (out): Linear(in_features=256, out_features=1, bias=True)\n",
       ")"
      ]
     },
     "execution_count": 3,
     "metadata": {},
     "output_type": "execute_result"
    }
   ],
   "source": [
    "counter = load_model()\n",
    "counter"
   ]
  },
  {
   "cell_type": "code",
   "execution_count": 4,
   "metadata": {},
   "outputs": [
    {
     "data": {
      "text/html": [
       "<div>\n",
       "<style scoped>\n",
       "    .dataframe tbody tr th:only-of-type {\n",
       "        vertical-align: middle;\n",
       "    }\n",
       "\n",
       "    .dataframe tbody tr th {\n",
       "        vertical-align: top;\n",
       "    }\n",
       "\n",
       "    .dataframe thead th {\n",
       "        text-align: right;\n",
       "    }\n",
       "</style>\n",
       "<table border=\"1\" class=\"dataframe\">\n",
       "  <thead>\n",
       "    <tr style=\"text-align: right;\">\n",
       "      <th></th>\n",
       "      <th>words</th>\n",
       "      <th>syl_seq</th>\n",
       "      <th>syls</th>\n",
       "    </tr>\n",
       "  </thead>\n",
       "  <tbody>\n",
       "    <tr>\n",
       "      <th>0</th>\n",
       "      <td>brigadiership</td>\n",
       "      <td>1000110001000</td>\n",
       "      <td>4</td>\n",
       "    </tr>\n",
       "    <tr>\n",
       "      <th>1</th>\n",
       "      <td>cauline</td>\n",
       "      <td>1001000</td>\n",
       "      <td>2</td>\n",
       "    </tr>\n",
       "    <tr>\n",
       "      <th>2</th>\n",
       "      <td>mousetrap</td>\n",
       "      <td>100001000</td>\n",
       "      <td>2</td>\n",
       "    </tr>\n",
       "    <tr>\n",
       "      <th>3</th>\n",
       "      <td>limina</td>\n",
       "      <td>100110</td>\n",
       "      <td>3</td>\n",
       "    </tr>\n",
       "    <tr>\n",
       "      <th>4</th>\n",
       "      <td>overlapping</td>\n",
       "      <td>11001001000</td>\n",
       "      <td>4</td>\n",
       "    </tr>\n",
       "  </tbody>\n",
       "</table>\n",
       "</div>"
      ],
      "text/plain": [
       "           words        syl_seq  syls\n",
       "0  brigadiership  1000110001000     4\n",
       "1        cauline        1001000     2\n",
       "2      mousetrap      100001000     2\n",
       "3         limina         100110     3\n",
       "4    overlapping    11001001000     4"
      ]
     },
     "execution_count": 4,
     "metadata": {},
     "output_type": "execute_result"
    }
   ],
   "source": [
    "import pandas as pd\n",
    "df = pd.read_csv('data/gutsyls.tsv', sep = '\\t')\n",
    "df.head()"
   ]
  },
  {
   "cell_type": "code",
   "execution_count": 5,
   "metadata": {},
   "outputs": [
    {
     "name": "stdout",
     "output_type": "stream",
     "text": [
      "rearview 10001000 2 3 0.4\n",
      "[('r', 0.89), ('e', 0.11), ('a', 0.88), ('r', 0.11), ('v', 0.89), ('i', 0.11), ('e', 0.11), ('w', 0.1)]\n",
      "bizerse 1010010 3 2 0.36\n",
      "[('b', 0.89), ('i', 0.11), ('z', 0.8), ('e', 0.2), ('r', 0.11), ('s', 0.1), ('e', 0.1)]\n",
      "millerand 100001000 2 3 0.17\n",
      "[('m', 0.89), ('i', 0.11), ('l', 0.11), ('l', 0.4), ('e', 0.64), ('r', 0.12), ('a', 0.89), ('n', 0.11), ('d', 0.1)]\n",
      "droolier 10000110 3 2 0.39\n",
      "[('d', 0.89), ('r', 0.11), ('o', 0.11), ('o', 0.11), ('l', 0.88), ('i', 0.11), ('e', 0.12), ('r', 0.1)]\n",
      "shakespearianism 1000010000110100 5 6 0.09\n",
      "[('s', 0.89), ('h', 0.11), ('a', 0.1), ('k', 0.11), ('e', 0.11), ('s', 0.87), ('p', 0.12), ('e', 0.11), ('a', 0.53), ('r', 0.11), ('i', 0.89), ('a', 0.89), ('n', 0.11), ('i', 0.89), ('s', 0.11), ('m', 0.11)]\n",
      "smet 1100 2 1 0.63\n",
      "[('s', 0.89), ('m', 0.11), ('e', 0.11), ('t', 0.11)]\n",
      "maninke 1010010 3 2 0.33\n",
      "[('m', 0.89), ('a', 0.11), ('n', 0.77), ('i', 0.23), ('n', 0.12), ('k', 0.11), ('e', 0.1)]\n",
      "federalist 1001000000 2 4 0.31\n",
      "[('f', 0.89), ('e', 0.11), ('d', 0.11), ('e', 0.89), ('r', 0.11), ('a', 0.89), ('l', 0.11), ('i', 0.89), ('s', 0.11), ('t', 0.11)]\n",
      "cashdrawer 1000100000 2 3 0.28\n",
      "[('c', 0.89), ('a', 0.11), ('s', 0.11), ('h', 0.11), ('d', 0.89), ('r', 0.11), ('a', 0.11), ('w', 0.16), ('e', 0.83), ('r', 0.11)]\n",
      "intermarriage 1010010010000 4 5 0.23\n",
      "[('i', 0.89), ('n', 0.11), ('t', 0.89), ('e', 0.11), ('r', 0.11), ('m', 0.89), ('a', 0.11), ('r', 0.11), ('r', 0.89), ('i', 0.11), ('a', 0.89), ('g', 0.11), ('e', 0.1)]\n",
      "mart 1001 2 1 0.62\n",
      "[('m', 0.89), ('a', 0.11), ('r', 0.11), ('t', 0.13)]\n",
      "macram 100101 3 2 0.49\n",
      "[('m', 0.89), ('a', 0.11), ('c', 0.88), ('r', 0.11), ('a', 0.11), ('m', 0.11)]\n",
      "barrio 100100 2 3 0.5\n",
      "[('b', 0.89), ('a', 0.11), ('r', 0.11), ('r', 0.89), ('i', 0.11), ('o', 0.89)]\n",
      "brul 1001 2 1 0.64\n",
      "[('b', 0.89), ('r', 0.11), ('u', 0.11), ('l', 0.11)]\n",
      "fledgeling 1000001000 2 3 0.28\n",
      "[('f', 0.89), ('l', 0.11), ('e', 0.11), ('d', 0.11), ('g', 0.15), ('e', 0.84), ('l', 0.12), ('i', 0.87), ('n', 0.11), ('g', 0.1)]\n",
      "kler 1100 2 1 0.63\n",
      "[('k', 0.89), ('l', 0.11), ('e', 0.11), ('r', 0.11)]\n",
      "blis 1100 2 1 0.62\n",
      "[('b', 0.89), ('l', 0.11), ('i', 0.11), ('s', 0.12)]\n",
      "lieabed 1001100 3 2 0.39\n",
      "[('l', 0.89), ('i', 0.11), ('e', 0.12), ('a', 0.88), ('b', 0.19), ('e', 0.12), ('d', 0.1)]\n",
      "reiter 100100 2 3 0.37\n",
      "[('r', 0.89), ('e', 0.11), ('i', 0.89), ('t', 0.78), ('e', 0.23), ('r', 0.11)]\n",
      "antig 10101 3 2 0.55\n",
      "[('a', 0.89), ('n', 0.11), ('t', 0.89), ('i', 0.11), ('g', 0.13)]\n",
      "lautramont 1001011000 4 3 0.29\n",
      "[('l', 0.89), ('a', 0.11), ('u', 0.11), ('t', 0.87), ('r', 0.12), ('a', 0.11), ('m', 0.86), ('o', 0.14), ('n', 0.1), ('t', 0.1)]\n",
      "omelette 10110000 3 4 0.14\n",
      "[('o', 0.89), ('m', 0.26), ('e', 0.75), ('l', 0.81), ('e', 0.19), ('t', 0.11), ('t', 0.54), ('e', 0.12)]\n",
      "princelier 1000001010 3 2 0.32\n",
      "[('p', 0.89), ('r', 0.11), ('i', 0.11), ('n', 0.11), ('c', 0.11), ('e', 0.1), ('l', 0.89), ('i', 0.11), ('e', 0.11), ('r', 0.1)]\n",
      "extraembryonal 10100101001010 6 5 0.19\n",
      "[('e', 0.89), ('x', 0.11), ('t', 0.89), ('r', 0.11), ('a', 0.11), ('e', 0.11), ('m', 0.11), ('b', 0.89), ('r', 0.11), ('y', 0.11), ('o', 0.89), ('n', 0.87), ('a', 0.13), ('l', 0.11)]\n",
      "semplice 10010010 3 2 0.41\n",
      "[('s', 0.89), ('e', 0.11), ('m', 0.11), ('p', 0.89), ('l', 0.11), ('i', 0.11), ('c', 0.1), ('e', 0.1)]\n",
      "lore 1010 2 1 0.63\n",
      "[('l', 0.89), ('o', 0.11), ('r', 0.11), ('e', 0.11)]\n",
      "revictualed 10100010000 3 4 0.28\n",
      "[('r', 0.89), ('e', 0.11), ('v', 0.89), ('i', 0.11), ('c', 0.11), ('t', 0.89), ('u', 0.11), ('a', 0.89), ('l', 0.11), ('e', 0.1), ('d', 0.1)]\n",
      "auslese 1001010 3 2 0.44\n",
      "[('a', 0.89), ('u', 0.11), ('s', 0.12), ('l', 0.88), ('e', 0.11), ('s', 0.11), ('e', 0.1)]\n",
      "mislearn 10010000 2 3 0.4\n",
      "[('m', 0.89), ('i', 0.11), ('s', 0.11), ('l', 0.89), ('e', 0.11), ('a', 0.89), ('r', 0.11), ('n', 0.1)]\n",
      "nonsociability 10010100100110 6 7 0.2\n",
      "[('n', 0.89), ('o', 0.11), ('n', 0.11), ('s', 0.89), ('o', 0.11), ('c', 0.89), ('i', 0.11), ('a', 0.89), ('b', 0.89), ('i', 0.11), ('l', 0.11), ('i', 0.89), ('t', 0.89), ('y', 0.11)]\n",
      "super 10000 1 2 0.51\n",
      "[('s', 0.89), ('u', 0.11), ('p', 0.85), ('e', 0.15), ('r', 0.11)]\n",
      "undersparred 101001000000 3 4 0.26\n",
      "[('u', 0.89), ('n', 0.11), ('d', 0.89), ('e', 0.11), ('r', 0.11), ('s', 0.89), ('p', 0.11), ('a', 0.11), ('r', 0.11), ('r', 0.89), ('e', 0.1), ('d', 0.1)]\n",
      "santarm 1001010 3 2 0.44\n",
      "[('s', 0.89), ('a', 0.11), ('n', 0.11), ('t', 0.88), ('a', 0.12), ('r', 0.11), ('m', 0.1)]\n",
      "jackfruit 100010000 2 3 0.36\n",
      "[('j', 0.89), ('a', 0.1), ('c', 0.11), ('k', 0.11), ('f', 0.89), ('r', 0.11), ('u', 0.11), ('i', 0.89), ('t', 0.1)]\n",
      "ita 100 1 2 0.69\n",
      "[('i', 0.89), ('t', 0.88), ('a', 0.12)]\n",
      "adors 11001 3 2 0.52\n",
      "[('a', 0.89), ('d', 0.86), ('o', 0.15), ('r', 0.11), ('s', 0.11)]\n"
     ]
    }
   ],
   "source": [
    "hard_words = {'words': [], 'syl_seq': [], 'syls': []}\n",
    "for idx in range(1000):\n",
    "    yhat = counter.predict(df['words'][idx], return_confidence = True, return_sequence = True)\n",
    "    if yhat['num_syls'] != df['syls'][idx]:\n",
    "        hard_words['words'].append(df['words'][idx])\n",
    "        hard_words['syl_seq'].append(df['syl_seq'][idx])\n",
    "        hard_words['syls'].append(df['syls'][idx])\n",
    "        print(df['words'][idx], df['syl_seq'][idx], df['syls'][idx], yhat['num_syls'], yhat['confidence'])\n",
    "        print(yhat['probs'])"
   ]
  },
  {
   "cell_type": "code",
   "execution_count": null,
   "metadata": {},
   "outputs": [],
   "source": [
    "while True:\n",
    "    words = input()\n",
    "    outputs = counter.predict(words, return_sequence = True, pred_threshold = 0.5)\n",
    "    string = ''.join([ctext(f'{char} ', deg) for char, deg in outputs['probs']])\n",
    "    printmd(f'{string}&nbsp;= {outputs[\"num_syls\"]} syllables', size = 5)"
   ]
  },
  {
   "cell_type": "code",
   "execution_count": null,
   "metadata": {},
   "outputs": [],
   "source": []
  }
 ],
 "metadata": {
  "kernelspec": {
   "display_name": "Python 3",
   "language": "python",
   "name": "python3"
  },
  "language_info": {
   "codemirror_mode": {
    "name": "ipython",
    "version": 3
   },
   "file_extension": ".py",
   "mimetype": "text/x-python",
   "name": "python",
   "nbconvert_exporter": "python",
   "pygments_lexer": "ipython3",
   "version": "3.6.8"
  }
 },
 "nbformat": 4,
 "nbformat_minor": 2
}
