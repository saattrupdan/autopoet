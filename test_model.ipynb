{
 "cells": [
  {
   "cell_type": "code",
   "execution_count": 1,
   "metadata": {},
   "outputs": [],
   "source": [
    "from syllablecounter import load_model, get_data"
   ]
  },
  {
   "cell_type": "code",
   "execution_count": 2,
   "metadata": {},
   "outputs": [],
   "source": [
    "def printmd(string, size = 3):\n",
    "    from IPython.display import Markdown, display\n",
    "    display(Markdown(f'<font size = {size}>{string}</font>'))\n",
    "def green(string, deg = 1):\n",
    "    return f'<span style = \"background-color:hsl(125, {deg * 100}%, 50%);\">{string}</span>'\n",
    "def red(string, deg = 1):\n",
    "    return f'<span style = \"background-color:hsl(0, {deg * 100}%, 50%);\">{string}</span>'\n",
    "def ctext(string, deg = 0.5):\n",
    "    deg = 2 * deg - 1\n",
    "    if deg > 0:\n",
    "        return green(string, deg)\n",
    "    else:\n",
    "        return red(string, -deg)"
   ]
  },
  {
   "cell_type": "code",
   "execution_count": 3,
   "metadata": {},
   "outputs": [
    {
     "data": {
      "text/plain": [
       "SyllableCounter(\n",
       "  (embed): Embedding(30, 64)\n",
       "  (rnn): GRU(64, 128, num_layers=3, dropout=0.2, bidirectional=True)\n",
       "  (drops): ModuleList(\n",
       "    (0): Dropout(p=0.5, inplace=False)\n",
       "    (1): Dropout(p=0.5, inplace=False)\n",
       "  )\n",
       "  (norms): ModuleList(\n",
       "    (0): BatchNorm1d(256, eps=1e-05, momentum=0.1, affine=True, track_running_stats=True)\n",
       "    (1): BatchNorm1d(256, eps=1e-05, momentum=0.1, affine=True, track_running_stats=True)\n",
       "  )\n",
       "  (lins): ModuleList(\n",
       "    (0): Linear(in_features=256, out_features=256, bias=True)\n",
       "    (1): Linear(in_features=256, out_features=256, bias=True)\n",
       "  )\n",
       "  (out): Linear(in_features=256, out_features=1, bias=True)\n",
       ")"
      ]
     },
     "execution_count": 3,
     "metadata": {},
     "output_type": "execute_result"
    }
   ],
   "source": [
    "counter = load_model()\n",
    "counter"
   ]
  },
  {
   "cell_type": "code",
   "execution_count": 4,
   "metadata": {},
   "outputs": [
    {
     "data": {
      "text/html": [
       "<div>\n",
       "<style scoped>\n",
       "    .dataframe tbody tr th:only-of-type {\n",
       "        vertical-align: middle;\n",
       "    }\n",
       "\n",
       "    .dataframe tbody tr th {\n",
       "        vertical-align: top;\n",
       "    }\n",
       "\n",
       "    .dataframe thead th {\n",
       "        text-align: right;\n",
       "    }\n",
       "</style>\n",
       "<table border=\"1\" class=\"dataframe\">\n",
       "  <thead>\n",
       "    <tr style=\"text-align: right;\">\n",
       "      <th></th>\n",
       "      <th>words</th>\n",
       "      <th>syl_seq</th>\n",
       "      <th>syls</th>\n",
       "    </tr>\n",
       "  </thead>\n",
       "  <tbody>\n",
       "    <tr>\n",
       "      <th>0</th>\n",
       "      <td>nondistillation</td>\n",
       "      <td>100100100101000</td>\n",
       "      <td>5</td>\n",
       "    </tr>\n",
       "    <tr>\n",
       "      <th>1</th>\n",
       "      <td>transitoriness</td>\n",
       "      <td>10001010101000</td>\n",
       "      <td>5</td>\n",
       "    </tr>\n",
       "    <tr>\n",
       "      <th>2</th>\n",
       "      <td>bipyramidal</td>\n",
       "      <td>10101001100</td>\n",
       "      <td>5</td>\n",
       "    </tr>\n",
       "    <tr>\n",
       "      <th>3</th>\n",
       "      <td>nonciteable</td>\n",
       "      <td>10010001100</td>\n",
       "      <td>4</td>\n",
       "    </tr>\n",
       "    <tr>\n",
       "      <th>4</th>\n",
       "      <td>livebearer</td>\n",
       "      <td>1000100010</td>\n",
       "      <td>3</td>\n",
       "    </tr>\n",
       "  </tbody>\n",
       "</table>\n",
       "</div>"
      ],
      "text/plain": [
       "             words          syl_seq  syls\n",
       "0  nondistillation  100100100101000     5\n",
       "1   transitoriness   10001010101000     5\n",
       "2      bipyramidal      10101001100     5\n",
       "3      nonciteable      10010001100     4\n",
       "4       livebearer       1000100010     3"
      ]
     },
     "execution_count": 4,
     "metadata": {},
     "output_type": "execute_result"
    }
   ],
   "source": [
    "import pandas as pd\n",
    "df = pd.read_csv('data/gutsyls.tsv', sep = '\\t')\n",
    "df.head()"
   ]
  },
  {
   "cell_type": "code",
   "execution_count": 5,
   "metadata": {},
   "outputs": [
    {
     "name": "stdout",
     "output_type": "stream",
     "text": [
      "siobhan 1001000 2 3 0.39\n",
      "[('s', 0.89), ('i', 0.11), ('o', 0.88), ('b', 0.84), ('h', 0.16), ('a', 0.11), ('n', 0.11)]\n",
      "xtacihuatl 1101010000 4 5 0.2\n",
      "[('x', 0.81), ('t', 0.89), ('a', 0.11), ('c', 0.76), ('i', 0.25), ('h', 0.89), ('u', 0.11), ('a', 0.11), ('t', 0.89), ('l', 0.11)]\n",
      "init 1000 1 2 0.63\n",
      "[('i', 0.89), ('n', 0.11), ('i', 0.89), ('t', 0.11)]\n",
      "bandaranaike 100101010110 6 4 0.19\n",
      "[('b', 0.89), ('a', 0.11), ('n', 0.1), ('d', 0.89), ('a', 0.11), ('r', 0.25), ('a', 0.76), ('n', 0.89), ('a', 0.11), ('i', 0.11), ('k', 0.1), ('e', 0.1)]\n",
      "lemonnier 101001000 3 4 0.15\n",
      "[('l', 0.89), ('e', 0.11), ('m', 0.25), ('o', 0.76), ('n', 0.11), ('n', 0.89), ('i', 0.11), ('e', 0.51), ('r', 0.11)]\n",
      "molise 101010 3 2 0.38\n",
      "[('m', 0.89), ('o', 0.11), ('l', 0.23), ('i', 0.77), ('s', 0.11), ('e', 0.1)]\n",
      "inertia 1010100 3 4 0.45\n",
      "[('i', 0.89), ('n', 0.11), ('e', 0.9), ('r', 0.11), ('t', 0.9), ('i', 0.11), ('a', 0.87)]\n",
      "liwn 1010 2 1 0.64\n",
      "[('l', 0.89), ('i', 0.11), ('w', 0.1), ('n', 0.11)]\n",
      "siena 10101 3 2 0.43\n",
      "[('s', 0.89), ('i', 0.11), ('e', 0.11), ('n', 0.78), ('a', 0.22)]\n",
      "parnaiba 10010110 4 3 0.41\n",
      "[('p', 0.89), ('a', 0.11), ('r', 0.1), ('n', 0.89), ('a', 0.11), ('i', 0.11), ('b', 0.89), ('a', 0.11)]\n",
      "aphrodite 100101010 4 3 0.15\n",
      "[('a', 0.89), ('p', 0.2), ('h', 0.18), ('r', 0.75), ('o', 0.11), ('d', 0.7), ('i', 0.3), ('t', 0.11), ('e', 0.1)]\n",
      "glacing 1001100 3 2 0.46\n",
      "[('g', 0.89), ('l', 0.11), ('a', 0.1), ('c', 0.11), ('i', 0.89), ('n', 0.1), ('g', 0.1)]\n",
      "probusiness 10010001000 3 4 0.24\n",
      "[('p', 0.89), ('r', 0.11), ('o', 0.11), ('b', 0.89), ('u', 0.11), ('s', 0.18), ('i', 0.82), ('n', 0.89), ('e', 0.11), ('s', 0.1), ('s', 0.1)]\n",
      "reichsfhrer 10000010100 3 2 0.27\n",
      "[('r', 0.89), ('e', 0.11), ('i', 0.11), ('c', 0.1), ('h', 0.1), ('s', 0.15), ('f', 0.85), ('h', 0.11), ('r', 0.1), ('e', 0.1), ('r', 0.1)]\n",
      "caliche 1010100 3 2 0.42\n",
      "[('c', 0.89), ('a', 0.11), ('l', 0.14), ('i', 0.85), ('c', 0.11), ('h', 0.1), ('e', 0.1)]\n",
      "zospore 1000000 1 2 0.33\n",
      "[('z', 0.89), ('o', 0.11), ('s', 0.76), ('p', 0.24), ('o', 0.11), ('r', 0.1), ('e', 0.1)]\n",
      "paratences 1001100000 3 4 0.27\n",
      "[('p', 0.89), ('a', 0.11), ('r', 0.19), ('a', 0.8), ('t', 0.89), ('e', 0.11), ('n', 0.1), ('c', 0.89), ('e', 0.11), ('s', 0.1)]\n",
      "amintore 11001010 4 3 0.29\n",
      "[('a', 0.89), ('m', 0.76), ('i', 0.25), ('n', 0.11), ('t', 0.89), ('o', 0.11), ('r', 0.11), ('e', 0.11)]\n",
      "brul 1001 2 1 0.64\n",
      "[('b', 0.89), ('r', 0.11), ('u', 0.11), ('l', 0.11)]\n",
      "beriosova 100101010 4 5 0.33\n",
      "[('b', 0.89), ('e', 0.11), ('r', 0.87), ('i', 0.14), ('o', 0.89), ('s', 0.89), ('o', 0.11), ('v', 0.89), ('a', 0.11)]\n",
      "antirrhinum 10100100100 4 5 0.26\n",
      "[('a', 0.89), ('n', 0.11), ('t', 0.89), ('i', 0.11), ('r', 0.88), ('r', 0.89), ('h', 0.11), ('i', 0.11), ('n', 0.86), ('u', 0.13), ('m', 0.11)]\n",
      "childe 100000 1 2 0.42\n",
      "[('c', 0.89), ('h', 0.11), ('i', 0.11), ('l', 0.1), ('d', 0.82), ('e', 0.2)]\n",
      "baul 1010 2 1 0.63\n",
      "[('b', 0.89), ('a', 0.11), ('u', 0.11), ('l', 0.13)]\n",
      "bartk 10010 2 1 0.57\n",
      "[('b', 0.89), ('a', 0.11), ('r', 0.11), ('t', 0.1), ('k', 0.11)]\n",
      "obad 1000 1 2 0.47\n",
      "[('o', 0.89), ('b', 0.77), ('a', 0.24), ('d', 0.11)]\n",
      "collegiate 1001010100 4 3 0.33\n",
      "[('c', 0.89), ('o', 0.11), ('l', 0.1), ('l', 0.89), ('e', 0.11), ('g', 0.89), ('i', 0.11), ('a', 0.1), ('t', 0.1), ('e', 0.1)]\n",
      "prayerfulness 1000001001000 3 4 0.17\n",
      "[('p', 0.89), ('r', 0.11), ('a', 0.11), ('y', 0.25), ('e', 0.75), ('r', 0.1), ('f', 0.9), ('u', 0.11), ('l', 0.1), ('n', 0.89), ('e', 0.11), ('s', 0.1), ('s', 0.1)]\n",
      "godthaab 10001000 2 3 0.39\n",
      "[('g', 0.89), ('o', 0.11), ('d', 0.1), ('t', 0.89), ('h', 0.11), ('a', 0.11), ('a', 0.89), ('b', 0.13)]\n",
      "derrire 1001010 3 2 0.46\n",
      "[('d', 0.89), ('e', 0.11), ('r', 0.1), ('r', 0.89), ('i', 0.11), ('r', 0.1), ('e', 0.1)]\n",
      "tumefacient 10101010100 5 4 0.29\n",
      "[('t', 0.89), ('u', 0.11), ('m', 0.89), ('e', 0.11), ('f', 0.89), ('a', 0.11), ('c', 0.89), ('i', 0.11), ('e', 0.1), ('n', 0.1), ('t', 0.1)]\n",
      "glau 1000 2 1 0.64\n",
      "[('g', 0.89), ('l', 0.11), ('a', 0.11), ('u', 0.1)]\n",
      "magnesia 10010100 3 4 0.4\n",
      "[('m', 0.89), ('a', 0.11), ('g', 0.1), ('n', 0.89), ('e', 0.11), ('s', 0.89), ('i', 0.11), ('a', 0.89)]\n",
      "romane-conti 101010010010 5 4 0.19\n",
      "[('r', 0.89), ('o', 0.11), ('m', 0.76), ('a', 0.25), ('n', 0.1), ('e', 0.1), ('-', 0.1), ('c', 0.89), ('o', 0.11), ('n', 0.1), ('t', 0.89), ('i', 0.11)]\n",
      "benzoin 1001010 3 2 0.46\n",
      "[('b', 0.89), ('e', 0.11), ('n', 0.1), ('z', 0.89), ('o', 0.11), ('i', 0.1), ('n', 0.1)]\n",
      "appoggiaturas 1010010010100 5 6 0.13\n",
      "[('a', 0.89), ('p', 0.11), ('p', 0.9), ('o', 0.11), ('g', 0.1), ('g', 0.9), ('i', 0.11), ('a', 0.89), ('t', 0.79), ('u', 0.22), ('r', 0.26), ('a', 0.75), ('s', 0.11)]\n",
      "guapor 100101 3 2 0.37\n",
      "[('g', 0.89), ('u', 0.11), ('a', 0.11), ('p', 0.76), ('o', 0.24), ('r', 0.11)]\n"
     ]
    }
   ],
   "source": [
    "hard_words = {'words': [], 'syl_seq': [], 'syls': []}\n",
    "for idx in range(1000):\n",
    "    yhat = counter.predict(df['words'][idx], return_confidence = True, return_sequence = True)\n",
    "    if yhat['num_syls'] != df['syls'][idx]:\n",
    "        hard_words['words'].append(df['words'][idx])\n",
    "        hard_words['syl_seq'].append(df['syl_seq'][idx])\n",
    "        hard_words['syls'].append(df['syls'][idx])\n",
    "        print(df['words'][idx], df['syl_seq'][idx], df['syls'][idx], yhat['num_syls'], yhat['confidence'])\n",
    "        print(yhat['probs'])"
   ]
  },
  {
   "cell_type": "code",
   "execution_count": 6,
   "metadata": {},
   "outputs": [
    {
     "name": "stdout",
     "output_type": "stream",
     "text": [
      "anne is a woman\n"
     ]
    },
    {
     "data": {
      "text/markdown": [
       "<font size = 5><span style = \"background-color:hsl(125, 77.99999713897705%, 50%);\">a</span><span style = \"background-color:hsl(0, 78.00000011920929%, 50%);\">n</span><span style = \"background-color:hsl(125, 77.99999713897705%, 50%);\">n</span><span style = \"background-color:hsl(0, 78.00000011920929%, 50%);\">e</span><span style = \"background-color:hsl(0, 100.0%, 50%);\"> </span><span style = \"background-color:hsl(125, 77.99999713897705%, 50%);\">i</span><span style = \"background-color:hsl(0, 78.00000011920929%, 50%);\">s</span><span style = \"background-color:hsl(0, 100.0%, 50%);\"> </span><span style = \"background-color:hsl(125, 77.99999713897705%, 50%);\">a</span><span style = \"background-color:hsl(0, 100.0%, 50%);\"> </span><span style = \"background-color:hsl(125, 77.99999713897705%, 50%);\">w</span><span style = \"background-color:hsl(0, 78.00000011920929%, 50%);\">o</span><span style = \"background-color:hsl(0, 50.0%, 50%);\">m</span><span style = \"background-color:hsl(125, 50.0%, 50%);\">a</span><span style = \"background-color:hsl(0, 78.00000011920929%, 50%);\">n</span>&nbsp;= 6 syllables</font>"
      ],
      "text/plain": [
       "<IPython.core.display.Markdown object>"
      ]
     },
     "metadata": {},
     "output_type": "display_data"
    },
    {
     "name": "stdout",
     "output_type": "stream",
     "text": [
      "annelise\n"
     ]
    },
    {
     "data": {
      "text/markdown": [
       "<font size = 5><span style = \"background-color:hsl(125, 77.99999713897705%, 50%);\">a</span><span style = \"background-color:hsl(0, 78.00000011920929%, 50%);\">n</span><span style = \"background-color:hsl(125, 77.99999713897705%, 50%);\">n</span><span style = \"background-color:hsl(0, 78.00000011920929%, 50%);\">e</span><span style = \"background-color:hsl(0, 74.00000095367432%, 50%);\">l</span><span style = \"background-color:hsl(125, 72.00000286102295%, 50%);\">i</span><span style = \"background-color:hsl(0, 79.99999970197678%, 50%);\">s</span><span style = \"background-color:hsl(0, 79.99999970197678%, 50%);\">e</span>&nbsp;= 3 syllables</font>"
      ],
      "text/plain": [
       "<IPython.core.display.Markdown object>"
      ]
     },
     "metadata": {},
     "output_type": "display_data"
    },
    {
     "name": "stdout",
     "output_type": "stream",
     "text": [
      "computer\n"
     ]
    },
    {
     "data": {
      "text/markdown": [
       "<font size = 5><span style = \"background-color:hsl(125, 77.99999713897705%, 50%);\">c</span><span style = \"background-color:hsl(0, 78.00000011920929%, 50%);\">o</span><span style = \"background-color:hsl(0, 79.99999970197678%, 50%);\">m</span><span style = \"background-color:hsl(125, 77.99999713897705%, 50%);\">p</span><span style = \"background-color:hsl(0, 78.00000011920929%, 50%);\">u</span><span style = \"background-color:hsl(125, 51.99999809265137%, 50%);\">t</span><span style = \"background-color:hsl(0, 52.000001072883606%, 50%);\">e</span><span style = \"background-color:hsl(0, 79.99999970197678%, 50%);\">r</span>&nbsp;= 3 syllables</font>"
      ],
      "text/plain": [
       "<IPython.core.display.Markdown object>"
      ]
     },
     "metadata": {},
     "output_type": "display_data"
    },
    {
     "name": "stdout",
     "output_type": "stream",
     "text": [
      "a test\n"
     ]
    },
    {
     "data": {
      "text/markdown": [
       "<font size = 5><span style = \"background-color:hsl(125, 77.99999713897705%, 50%);\">a</span><span style = \"background-color:hsl(0, 100.0%, 50%);\"> </span><span style = \"background-color:hsl(125, 77.99999713897705%, 50%);\">t</span><span style = \"background-color:hsl(0, 78.00000011920929%, 50%);\">e</span><span style = \"background-color:hsl(0, 79.99999970197678%, 50%);\">s</span><span style = \"background-color:hsl(0, 78.00000011920929%, 50%);\">t</span>&nbsp;= 2 syllables</font>"
      ],
      "text/plain": [
       "<IPython.core.display.Markdown object>"
      ]
     },
     "metadata": {},
     "output_type": "display_data"
    },
    {
     "name": "stdout",
     "output_type": "stream",
     "text": [
      "lol\n"
     ]
    },
    {
     "data": {
      "text/markdown": [
       "<font size = 5><span style = \"background-color:hsl(125, 77.99999713897705%, 50%);\">l</span><span style = \"background-color:hsl(0, 78.00000011920929%, 50%);\">o</span><span style = \"background-color:hsl(0, 78.00000011920929%, 50%);\">l</span>&nbsp;= 1 syllables</font>"
      ],
      "text/plain": [
       "<IPython.core.display.Markdown object>"
      ]
     },
     "metadata": {},
     "output_type": "display_data"
    },
    {
     "name": "stdout",
     "output_type": "stream",
     "text": [
      "usa\n"
     ]
    },
    {
     "data": {
      "text/markdown": [
       "<font size = 5><span style = \"background-color:hsl(125, 77.99999713897705%, 50%);\">u</span><span style = \"background-color:hsl(125, 77.99999713897705%, 50%);\">s</span><span style = \"background-color:hsl(0, 78.00000011920929%, 50%);\">a</span>&nbsp;= 2 syllables</font>"
      ],
      "text/plain": [
       "<IPython.core.display.Markdown object>"
      ]
     },
     "metadata": {},
     "output_type": "display_data"
    },
    {
     "name": "stdout",
     "output_type": "stream",
     "text": [
      "us\n"
     ]
    },
    {
     "data": {
      "text/markdown": [
       "<font size = 5><span style = \"background-color:hsl(125, 77.99999713897705%, 50%);\">u</span><span style = \"background-color:hsl(0, 78.00000011920929%, 50%);\">s</span>&nbsp;= 1 syllables</font>"
      ],
      "text/plain": [
       "<IPython.core.display.Markdown object>"
      ]
     },
     "metadata": {},
     "output_type": "display_data"
    },
    {
     "name": "stdout",
     "output_type": "stream",
     "text": [
      "u-s-a\n"
     ]
    },
    {
     "data": {
      "text/markdown": [
       "<font size = 5><span style = \"background-color:hsl(125, 77.99999713897705%, 50%);\">y</span><span style = \"background-color:hsl(0, 78.00000011920929%, 50%);\">o</span><span style = \"background-color:hsl(0, 78.00000011920929%, 50%);\">u</span><span style = \"background-color:hsl(0, 79.99999970197678%, 50%);\">-</span><span style = \"background-color:hsl(0, 78.00000011920929%, 50%);\">s</span><span style = \"background-color:hsl(0, 78.00000011920929%, 50%);\">-</span><span style = \"background-color:hsl(125, 74.00000095367432%, 50%);\">a</span>&nbsp;= 2 syllables</font>"
      ],
      "text/plain": [
       "<IPython.core.display.Markdown object>"
      ]
     },
     "metadata": {},
     "output_type": "display_data"
    },
    {
     "name": "stdout",
     "output_type": "stream",
     "text": [
      "u\n"
     ]
    },
    {
     "data": {
      "text/markdown": [
       "<font size = 5><span style = \"background-color:hsl(125, 77.99999713897705%, 50%);\">y</span><span style = \"background-color:hsl(0, 78.00000011920929%, 50%);\">o</span><span style = \"background-color:hsl(0, 78.00000011920929%, 50%);\">u</span>&nbsp;= 1 syllables</font>"
      ],
      "text/plain": [
       "<IPython.core.display.Markdown object>"
      ]
     },
     "metadata": {},
     "output_type": "display_data"
    },
    {
     "name": "stdout",
     "output_type": "stream",
     "text": [
      "u r\n"
     ]
    },
    {
     "data": {
      "text/markdown": [
       "<font size = 5><span style = \"background-color:hsl(125, 77.99999713897705%, 50%);\">y</span><span style = \"background-color:hsl(0, 78.00000011920929%, 50%);\">o</span><span style = \"background-color:hsl(0, 78.00000011920929%, 50%);\">u</span><span style = \"background-color:hsl(0, 100.0%, 50%);\"> </span><span style = \"background-color:hsl(125, 77.99999713897705%, 50%);\">r</span>&nbsp;= 2 syllables</font>"
      ],
      "text/plain": [
       "<IPython.core.display.Markdown object>"
      ]
     },
     "metadata": {},
     "output_type": "display_data"
    },
    {
     "name": "stdout",
     "output_type": "stream",
     "text": [
      "u r sweet\n"
     ]
    },
    {
     "data": {
      "text/markdown": [
       "<font size = 5><span style = \"background-color:hsl(125, 77.99999713897705%, 50%);\">y</span><span style = \"background-color:hsl(0, 78.00000011920929%, 50%);\">o</span><span style = \"background-color:hsl(0, 78.00000011920929%, 50%);\">u</span><span style = \"background-color:hsl(0, 100.0%, 50%);\"> </span><span style = \"background-color:hsl(125, 77.99999713897705%, 50%);\">r</span><span style = \"background-color:hsl(0, 100.0%, 50%);\"> </span><span style = \"background-color:hsl(125, 77.99999713897705%, 50%);\">s</span><span style = \"background-color:hsl(0, 78.00000011920929%, 50%);\">w</span><span style = \"background-color:hsl(0, 79.99999970197678%, 50%);\">e</span><span style = \"background-color:hsl(0, 79.99999970197678%, 50%);\">e</span><span style = \"background-color:hsl(0, 79.99999970197678%, 50%);\">t</span>&nbsp;= 3 syllables</font>"
      ],
      "text/plain": [
       "<IPython.core.display.Markdown object>"
      ]
     },
     "metadata": {},
     "output_type": "display_data"
    },
    {
     "name": "stdout",
     "output_type": "stream",
     "text": [
      "l8er\n"
     ]
    },
    {
     "data": {
      "text/markdown": [
       "<font size = 5><span style = \"background-color:hsl(125, 77.99999713897705%, 50%);\">l</span><span style = \"background-color:hsl(0, 78.00000011920929%, 50%);\">e</span><span style = \"background-color:hsl(0, 78.00000011920929%, 50%);\">r</span>&nbsp;= 1 syllables</font>"
      ],
      "text/plain": [
       "<IPython.core.display.Markdown object>"
      ]
     },
     "metadata": {},
     "output_type": "display_data"
    },
    {
     "name": "stdout",
     "output_type": "stream",
     "text": [
      "l8r\n"
     ]
    },
    {
     "data": {
      "text/markdown": [
       "<font size = 5><span style = \"background-color:hsl(125, 77.99999713897705%, 50%);\">l</span><span style = \"background-color:hsl(0, 78.00000011920929%, 50%);\">a</span><span style = \"background-color:hsl(125, 50.0%, 50%);\">t</span><span style = \"background-color:hsl(0, 50.0%, 50%);\">e</span><span style = \"background-color:hsl(0, 78.00000011920929%, 50%);\">r</span>&nbsp;= 2 syllables</font>"
      ],
      "text/plain": [
       "<IPython.core.display.Markdown object>"
      ]
     },
     "metadata": {},
     "output_type": "display_data"
    },
    {
     "ename": "KeyboardInterrupt",
     "evalue": "",
     "output_type": "error",
     "traceback": [
      "\u001b[0;31m---------------------------------------------------------------------------\u001b[0m",
      "\u001b[0;31mKeyboardInterrupt\u001b[0m                         Traceback (most recent call last)",
      "\u001b[0;32m~/anaconda3/lib/python3.7/site-packages/ipykernel/kernelbase.py\u001b[0m in \u001b[0;36m_input_request\u001b[0;34m(self, prompt, ident, parent, password)\u001b[0m\n\u001b[1;32m    877\u001b[0m             \u001b[0;32mtry\u001b[0m\u001b[0;34m:\u001b[0m\u001b[0;34m\u001b[0m\u001b[0;34m\u001b[0m\u001b[0m\n\u001b[0;32m--> 878\u001b[0;31m                 \u001b[0mident\u001b[0m\u001b[0;34m,\u001b[0m \u001b[0mreply\u001b[0m \u001b[0;34m=\u001b[0m \u001b[0mself\u001b[0m\u001b[0;34m.\u001b[0m\u001b[0msession\u001b[0m\u001b[0;34m.\u001b[0m\u001b[0mrecv\u001b[0m\u001b[0;34m(\u001b[0m\u001b[0mself\u001b[0m\u001b[0;34m.\u001b[0m\u001b[0mstdin_socket\u001b[0m\u001b[0;34m,\u001b[0m \u001b[0;36m0\u001b[0m\u001b[0;34m)\u001b[0m\u001b[0;34m\u001b[0m\u001b[0;34m\u001b[0m\u001b[0m\n\u001b[0m\u001b[1;32m    879\u001b[0m             \u001b[0;32mexcept\u001b[0m \u001b[0mException\u001b[0m\u001b[0;34m:\u001b[0m\u001b[0;34m\u001b[0m\u001b[0;34m\u001b[0m\u001b[0m\n",
      "\u001b[0;32m~/anaconda3/lib/python3.7/site-packages/jupyter_client/session.py\u001b[0m in \u001b[0;36mrecv\u001b[0;34m(self, socket, mode, content, copy)\u001b[0m\n\u001b[1;32m    802\u001b[0m         \u001b[0;32mtry\u001b[0m\u001b[0;34m:\u001b[0m\u001b[0;34m\u001b[0m\u001b[0;34m\u001b[0m\u001b[0m\n\u001b[0;32m--> 803\u001b[0;31m             \u001b[0mmsg_list\u001b[0m \u001b[0;34m=\u001b[0m \u001b[0msocket\u001b[0m\u001b[0;34m.\u001b[0m\u001b[0mrecv_multipart\u001b[0m\u001b[0;34m(\u001b[0m\u001b[0mmode\u001b[0m\u001b[0;34m,\u001b[0m \u001b[0mcopy\u001b[0m\u001b[0;34m=\u001b[0m\u001b[0mcopy\u001b[0m\u001b[0;34m)\u001b[0m\u001b[0;34m\u001b[0m\u001b[0;34m\u001b[0m\u001b[0m\n\u001b[0m\u001b[1;32m    804\u001b[0m         \u001b[0;32mexcept\u001b[0m \u001b[0mzmq\u001b[0m\u001b[0;34m.\u001b[0m\u001b[0mZMQError\u001b[0m \u001b[0;32mas\u001b[0m \u001b[0me\u001b[0m\u001b[0;34m:\u001b[0m\u001b[0;34m\u001b[0m\u001b[0;34m\u001b[0m\u001b[0m\n",
      "\u001b[0;32m~/anaconda3/lib/python3.7/site-packages/zmq/sugar/socket.py\u001b[0m in \u001b[0;36mrecv_multipart\u001b[0;34m(self, flags, copy, track)\u001b[0m\n\u001b[1;32m    466\u001b[0m         \"\"\"\n\u001b[0;32m--> 467\u001b[0;31m         \u001b[0mparts\u001b[0m \u001b[0;34m=\u001b[0m \u001b[0;34m[\u001b[0m\u001b[0mself\u001b[0m\u001b[0;34m.\u001b[0m\u001b[0mrecv\u001b[0m\u001b[0;34m(\u001b[0m\u001b[0mflags\u001b[0m\u001b[0;34m,\u001b[0m \u001b[0mcopy\u001b[0m\u001b[0;34m=\u001b[0m\u001b[0mcopy\u001b[0m\u001b[0;34m,\u001b[0m \u001b[0mtrack\u001b[0m\u001b[0;34m=\u001b[0m\u001b[0mtrack\u001b[0m\u001b[0;34m)\u001b[0m\u001b[0;34m]\u001b[0m\u001b[0;34m\u001b[0m\u001b[0;34m\u001b[0m\u001b[0m\n\u001b[0m\u001b[1;32m    468\u001b[0m         \u001b[0;31m# have first part already, only loop while more to receive\u001b[0m\u001b[0;34m\u001b[0m\u001b[0;34m\u001b[0m\u001b[0;34m\u001b[0m\u001b[0m\n",
      "\u001b[0;32mzmq/backend/cython/socket.pyx\u001b[0m in \u001b[0;36mzmq.backend.cython.socket.Socket.recv\u001b[0;34m()\u001b[0m\n",
      "\u001b[0;32mzmq/backend/cython/socket.pyx\u001b[0m in \u001b[0;36mzmq.backend.cython.socket.Socket.recv\u001b[0;34m()\u001b[0m\n",
      "\u001b[0;32mzmq/backend/cython/socket.pyx\u001b[0m in \u001b[0;36mzmq.backend.cython.socket._recv_copy\u001b[0;34m()\u001b[0m\n",
      "\u001b[0;32m~/anaconda3/lib/python3.7/site-packages/zmq/backend/cython/checkrc.pxd\u001b[0m in \u001b[0;36mzmq.backend.cython.checkrc._check_rc\u001b[0;34m()\u001b[0m\n",
      "\u001b[0;31mKeyboardInterrupt\u001b[0m: ",
      "\nDuring handling of the above exception, another exception occurred:\n",
      "\u001b[0;31mKeyboardInterrupt\u001b[0m                         Traceback (most recent call last)",
      "\u001b[0;32m<ipython-input-6-53d0aa6768d5>\u001b[0m in \u001b[0;36m<module>\u001b[0;34m\u001b[0m\n\u001b[1;32m      1\u001b[0m \u001b[0;32mwhile\u001b[0m \u001b[0;32mTrue\u001b[0m\u001b[0;34m:\u001b[0m\u001b[0;34m\u001b[0m\u001b[0;34m\u001b[0m\u001b[0m\n\u001b[0;32m----> 2\u001b[0;31m     \u001b[0mwords\u001b[0m \u001b[0;34m=\u001b[0m \u001b[0minput\u001b[0m\u001b[0;34m(\u001b[0m\u001b[0;34m)\u001b[0m\u001b[0;34m\u001b[0m\u001b[0;34m\u001b[0m\u001b[0m\n\u001b[0m\u001b[1;32m      3\u001b[0m     \u001b[0moutputs\u001b[0m \u001b[0;34m=\u001b[0m \u001b[0mcounter\u001b[0m\u001b[0;34m.\u001b[0m\u001b[0mpredict\u001b[0m\u001b[0;34m(\u001b[0m\u001b[0mwords\u001b[0m\u001b[0;34m,\u001b[0m \u001b[0mreturn_sequence\u001b[0m \u001b[0;34m=\u001b[0m \u001b[0;32mTrue\u001b[0m\u001b[0;34m,\u001b[0m \u001b[0mpred_threshold\u001b[0m \u001b[0;34m=\u001b[0m \u001b[0;36m0.5\u001b[0m\u001b[0;34m)\u001b[0m\u001b[0;34m\u001b[0m\u001b[0;34m\u001b[0m\u001b[0m\n\u001b[1;32m      4\u001b[0m     \u001b[0mstring\u001b[0m \u001b[0;34m=\u001b[0m \u001b[0;34m''\u001b[0m\u001b[0;34m.\u001b[0m\u001b[0mjoin\u001b[0m\u001b[0;34m(\u001b[0m\u001b[0;34m[\u001b[0m\u001b[0mctext\u001b[0m\u001b[0;34m(\u001b[0m\u001b[0;34mf'{char}'\u001b[0m\u001b[0;34m,\u001b[0m \u001b[0mdeg\u001b[0m\u001b[0;34m)\u001b[0m \u001b[0;32mfor\u001b[0m \u001b[0mchar\u001b[0m\u001b[0;34m,\u001b[0m \u001b[0mdeg\u001b[0m \u001b[0;32min\u001b[0m \u001b[0moutputs\u001b[0m\u001b[0;34m[\u001b[0m\u001b[0;34m'probs'\u001b[0m\u001b[0;34m]\u001b[0m\u001b[0;34m]\u001b[0m\u001b[0;34m)\u001b[0m\u001b[0;34m\u001b[0m\u001b[0;34m\u001b[0m\u001b[0m\n\u001b[1;32m      5\u001b[0m     \u001b[0mprintmd\u001b[0m\u001b[0;34m(\u001b[0m\u001b[0;34mf'{string}&nbsp;= {outputs[\"num_syls\"]} syllables'\u001b[0m\u001b[0;34m,\u001b[0m \u001b[0msize\u001b[0m \u001b[0;34m=\u001b[0m \u001b[0;36m5\u001b[0m\u001b[0;34m)\u001b[0m\u001b[0;34m\u001b[0m\u001b[0;34m\u001b[0m\u001b[0m\n",
      "\u001b[0;32m~/anaconda3/lib/python3.7/site-packages/ipykernel/kernelbase.py\u001b[0m in \u001b[0;36mraw_input\u001b[0;34m(self, prompt)\u001b[0m\n\u001b[1;32m    851\u001b[0m             \u001b[0mself\u001b[0m\u001b[0;34m.\u001b[0m\u001b[0m_parent_ident\u001b[0m\u001b[0;34m,\u001b[0m\u001b[0;34m\u001b[0m\u001b[0;34m\u001b[0m\u001b[0m\n\u001b[1;32m    852\u001b[0m             \u001b[0mself\u001b[0m\u001b[0;34m.\u001b[0m\u001b[0m_parent_header\u001b[0m\u001b[0;34m,\u001b[0m\u001b[0;34m\u001b[0m\u001b[0;34m\u001b[0m\u001b[0m\n\u001b[0;32m--> 853\u001b[0;31m             \u001b[0mpassword\u001b[0m\u001b[0;34m=\u001b[0m\u001b[0;32mFalse\u001b[0m\u001b[0;34m,\u001b[0m\u001b[0;34m\u001b[0m\u001b[0;34m\u001b[0m\u001b[0m\n\u001b[0m\u001b[1;32m    854\u001b[0m         )\n\u001b[1;32m    855\u001b[0m \u001b[0;34m\u001b[0m\u001b[0m\n",
      "\u001b[0;32m~/anaconda3/lib/python3.7/site-packages/ipykernel/kernelbase.py\u001b[0m in \u001b[0;36m_input_request\u001b[0;34m(self, prompt, ident, parent, password)\u001b[0m\n\u001b[1;32m    881\u001b[0m             \u001b[0;32mexcept\u001b[0m \u001b[0mKeyboardInterrupt\u001b[0m\u001b[0;34m:\u001b[0m\u001b[0;34m\u001b[0m\u001b[0;34m\u001b[0m\u001b[0m\n\u001b[1;32m    882\u001b[0m                 \u001b[0;31m# re-raise KeyboardInterrupt, to truncate traceback\u001b[0m\u001b[0;34m\u001b[0m\u001b[0;34m\u001b[0m\u001b[0;34m\u001b[0m\u001b[0m\n\u001b[0;32m--> 883\u001b[0;31m                 \u001b[0;32mraise\u001b[0m \u001b[0mKeyboardInterrupt\u001b[0m\u001b[0;34m\u001b[0m\u001b[0;34m\u001b[0m\u001b[0m\n\u001b[0m\u001b[1;32m    884\u001b[0m             \u001b[0;32melse\u001b[0m\u001b[0;34m:\u001b[0m\u001b[0;34m\u001b[0m\u001b[0;34m\u001b[0m\u001b[0m\n\u001b[1;32m    885\u001b[0m                 \u001b[0;32mbreak\u001b[0m\u001b[0;34m\u001b[0m\u001b[0;34m\u001b[0m\u001b[0m\n",
      "\u001b[0;31mKeyboardInterrupt\u001b[0m: "
     ]
    }
   ],
   "source": [
    "while True:\n",
    "    words = input()\n",
    "    outputs = counter.predict(words, return_sequence = True, pred_threshold = 0.5)\n",
    "    string = ''.join([ctext(f'{char}', deg) for char, deg in outputs['probs']])\n",
    "    printmd(f'{string}&nbsp;= {outputs[\"num_syls\"]} syllables', size = 5)"
   ]
  },
  {
   "cell_type": "code",
   "execution_count": null,
   "metadata": {},
   "outputs": [],
   "source": []
  }
 ],
 "metadata": {
  "kernelspec": {
   "display_name": "Python 3",
   "language": "python",
   "name": "python3"
  },
  "language_info": {
   "codemirror_mode": {
    "name": "ipython",
    "version": 3
   },
   "file_extension": ".py",
   "mimetype": "text/x-python",
   "name": "python",
   "nbconvert_exporter": "python",
   "pygments_lexer": "ipython3",
   "version": "3.7.4"
  }
 },
 "nbformat": 4,
 "nbformat_minor": 2
}
