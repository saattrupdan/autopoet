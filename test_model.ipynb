{
 "cells": [
  {
   "cell_type": "code",
   "execution_count": 1,
   "metadata": {},
   "outputs": [],
   "source": [
    "from syllablecounter import load_model, get_data"
   ]
  },
  {
   "cell_type": "code",
   "execution_count": 2,
   "metadata": {},
   "outputs": [],
   "source": [
    "def printmd(string, size = 3):\n",
    "    from IPython.display import Markdown, display\n",
    "    display(Markdown(f'<font size = {size}>{string}</font>'))\n",
    "def green(string, deg = 1):\n",
    "    return f'<span style = \"background-color:hsl(125, {deg * 100}%, 50%);\">{string}</span>'\n",
    "def red(string, deg = 1):\n",
    "    return f'<span style = \"background-color:hsl(0, {deg * 100}%, 50%);\">{string}</span>'\n",
    "def ctext(string, deg = 0.5):\n",
    "    deg = 2 * deg - 1\n",
    "    if deg > 0:\n",
    "        return green(string, deg)\n",
    "    else:\n",
    "        return red(string, -deg)"
   ]
  },
  {
   "cell_type": "code",
   "execution_count": 3,
   "metadata": {},
   "outputs": [
    {
     "data": {
      "text/plain": [
       "SyllableCounter(\n",
       "  (embed): Embedding(28, 64)\n",
       "  (rnn): GRU(64, 128, num_layers=3, dropout=0.15, bidirectional=True)\n",
       "  (drops): ModuleList(\n",
       "    (0): Dropout(p=0.5, inplace=False)\n",
       "    (1): Dropout(p=0.5, inplace=False)\n",
       "  )\n",
       "  (norms): ModuleList(\n",
       "    (0): BatchNorm1d(256, eps=1e-05, momentum=0.1, affine=True, track_running_stats=True)\n",
       "    (1): BatchNorm1d(256, eps=1e-05, momentum=0.1, affine=True, track_running_stats=True)\n",
       "  )\n",
       "  (lins): ModuleList(\n",
       "    (0): Linear(in_features=256, out_features=256, bias=True)\n",
       "    (1): Linear(in_features=256, out_features=256, bias=True)\n",
       "  )\n",
       "  (out): Linear(in_features=256, out_features=1, bias=True)\n",
       ")"
      ]
     },
     "execution_count": 3,
     "metadata": {},
     "output_type": "execute_result"
    }
   ],
   "source": [
    "counter = load_model()\n",
    "counter"
   ]
  },
  {
   "cell_type": "code",
   "execution_count": 4,
   "metadata": {},
   "outputs": [
    {
     "data": {
      "text/html": [
       "<div>\n",
       "<style scoped>\n",
       "    .dataframe tbody tr th:only-of-type {\n",
       "        vertical-align: middle;\n",
       "    }\n",
       "\n",
       "    .dataframe tbody tr th {\n",
       "        vertical-align: top;\n",
       "    }\n",
       "\n",
       "    .dataframe thead th {\n",
       "        text-align: right;\n",
       "    }\n",
       "</style>\n",
       "<table border=\"1\" class=\"dataframe\">\n",
       "  <thead>\n",
       "    <tr style=\"text-align: right;\">\n",
       "      <th></th>\n",
       "      <th>words</th>\n",
       "      <th>syl_seq</th>\n",
       "      <th>syls</th>\n",
       "    </tr>\n",
       "  </thead>\n",
       "  <tbody>\n",
       "    <tr>\n",
       "      <th>0</th>\n",
       "      <td>brigadiership</td>\n",
       "      <td>1000110001000</td>\n",
       "      <td>4</td>\n",
       "    </tr>\n",
       "    <tr>\n",
       "      <th>1</th>\n",
       "      <td>cauline</td>\n",
       "      <td>1001000</td>\n",
       "      <td>2</td>\n",
       "    </tr>\n",
       "    <tr>\n",
       "      <th>2</th>\n",
       "      <td>mousetrap</td>\n",
       "      <td>100001000</td>\n",
       "      <td>2</td>\n",
       "    </tr>\n",
       "    <tr>\n",
       "      <th>3</th>\n",
       "      <td>limina</td>\n",
       "      <td>100110</td>\n",
       "      <td>3</td>\n",
       "    </tr>\n",
       "    <tr>\n",
       "      <th>4</th>\n",
       "      <td>overlapping</td>\n",
       "      <td>11001001000</td>\n",
       "      <td>4</td>\n",
       "    </tr>\n",
       "  </tbody>\n",
       "</table>\n",
       "</div>"
      ],
      "text/plain": [
       "           words        syl_seq  syls\n",
       "0  brigadiership  1000110001000     4\n",
       "1        cauline        1001000     2\n",
       "2      mousetrap      100001000     2\n",
       "3         limina         100110     3\n",
       "4    overlapping    11001001000     4"
      ]
     },
     "execution_count": 4,
     "metadata": {},
     "output_type": "execute_result"
    }
   ],
   "source": [
    "import pandas as pd\n",
    "df = pd.read_csv('data/gutsyls.tsv', sep = '\\t')\n",
    "df.head()"
   ]
  },
  {
   "cell_type": "code",
   "execution_count": 5,
   "metadata": {},
   "outputs": [
    {
     "name": "stdout",
     "output_type": "stream",
     "text": [
      "bizerse 1010010 3 2 0.38\n",
      "[('b', 0.89), ('i', 0.11), ('z', 0.18), ('e', 0.82), ('r', 0.11), ('s', 0.11), ('e', 0.1)]\n",
      "millerand 100001000 2 3 0.28\n",
      "[('m', 0.89), ('i', 0.11), ('l', 0.1), ('l', 0.78), ('e', 0.22), ('r', 0.11), ('a', 0.89), ('n', 0.1), ('d', 0.1)]\n",
      "droolier 10000110 3 2 0.31\n",
      "[('d', 0.89), ('r', 0.11), ('o', 0.1), ('o', 0.1), ('l', 0.22), ('i', 0.78), ('e', 0.11), ('r', 0.1)]\n",
      "smet 1100 2 1 0.64\n",
      "[('s', 0.89), ('m', 0.11), ('e', 0.1), ('t', 0.1)]\n",
      "maninke 1010010 3 2 0.35\n",
      "[('m', 0.89), ('a', 0.11), ('n', 0.22), ('i', 0.78), ('n', 0.11), ('k', 0.1), ('e', 0.1)]\n",
      "federalist 1001000000 2 4 0.33\n",
      "[('f', 0.89), ('e', 0.11), ('d', 0.1), ('e', 0.89), ('r', 0.11), ('a', 0.89), ('l', 0.11), ('i', 0.89), ('s', 0.11), ('t', 0.1)]\n",
      "cashdrawer 1000100000 2 3 0.33\n",
      "[('c', 0.89), ('a', 0.11), ('s', 0.1), ('h', 0.1), ('d', 0.89), ('r', 0.11), ('a', 0.1), ('w', 0.1), ('e', 0.89), ('r', 0.1)]\n",
      "intermarriage 1010010010000 4 5 0.23\n",
      "[('i', 0.89), ('n', 0.11), ('t', 0.89), ('e', 0.11), ('r', 0.1), ('m', 0.89), ('a', 0.11), ('r', 0.1), ('r', 0.89), ('i', 0.11), ('a', 0.89), ('g', 0.11), ('e', 0.1)]\n",
      "mart 1001 2 1 0.56\n",
      "[('m', 0.89), ('a', 0.11), ('r', 0.1), ('t', 0.22)]\n",
      "sporades 10001100 3 2 0.23\n",
      "[('s', 0.89), ('p', 0.11), ('o', 0.1), ('r', 0.78), ('a', 0.22), ('d', 0.29), ('e', 0.16), ('s', 0.1)]\n",
      "macram 100101 3 2 0.47\n",
      "[('m', 0.89), ('a', 0.11), ('c', 0.13), ('r', 0.86), ('a', 0.11), ('m', 0.1)]\n",
      "barrio 100100 2 3 0.51\n",
      "[('b', 0.89), ('a', 0.11), ('r', 0.1), ('r', 0.89), ('i', 0.11), ('o', 0.89)]\n",
      "brul 1001 2 1 0.64\n",
      "[('b', 0.89), ('r', 0.11), ('u', 0.1), ('l', 0.1)]\n",
      "roundelay 100010100 3 2 0.37\n",
      "[('r', 0.89), ('o', 0.11), ('u', 0.1), ('n', 0.1), ('d', 0.1), ('e', 0.1), ('l', 0.89), ('a', 0.11), ('y', 0.1)]\n",
      "fledgeling 1000001000 2 3 0.3\n",
      "[('f', 0.89), ('l', 0.11), ('e', 0.1), ('d', 0.1), ('g', 0.1), ('e', 0.89), ('l', 0.14), ('i', 0.86), ('n', 0.1), ('g', 0.1)]\n",
      "kler 1100 2 1 0.64\n",
      "[('k', 0.89), ('l', 0.11), ('e', 0.1), ('r', 0.1)]\n",
      "forte 10000 1 2 0.32\n",
      "[('f', 0.89), ('o', 0.11), ('r', 0.1), ('t', 0.5), ('e', 0.11)]\n",
      "blis 1100 2 1 0.64\n",
      "[('b', 0.89), ('l', 0.11), ('i', 0.1), ('s', 0.1)]\n",
      "reiter 100100 2 3 0.35\n",
      "[('r', 0.89), ('e', 0.11), ('i', 0.89), ('t', 0.26), ('e', 0.76), ('r', 0.11)]\n",
      "antig 10101 3 2 0.57\n",
      "[('a', 0.89), ('n', 0.11), ('t', 0.89), ('i', 0.11), ('g', 0.1)]\n",
      "lautramont 1001011000 4 3 0.3\n",
      "[('l', 0.89), ('a', 0.11), ('u', 0.1), ('t', 0.89), ('r', 0.11), ('a', 0.1), ('m', 0.86), ('o', 0.15), ('n', 0.1), ('t', 0.1)]\n",
      "princelier 1000001010 3 2 0.33\n",
      "[('p', 0.89), ('r', 0.11), ('i', 0.1), ('n', 0.1), ('c', 0.1), ('e', 0.1), ('l', 0.89), ('i', 0.11), ('e', 0.1), ('r', 0.1)]\n",
      "semplice 10010010 3 2 0.41\n",
      "[('s', 0.89), ('e', 0.11), ('m', 0.1), ('p', 0.89), ('l', 0.11), ('i', 0.1), ('c', 0.1), ('e', 0.1)]\n",
      "charleton 100000100 2 3 0.37\n",
      "[('c', 0.89), ('h', 0.11), ('a', 0.1), ('r', 0.1), ('l', 0.89), ('e', 0.11), ('t', 0.89), ('o', 0.11), ('n', 0.1)]\n",
      "lore 1010 2 1 0.64\n",
      "[('l', 0.89), ('o', 0.11), ('r', 0.1), ('e', 0.1)]\n",
      "sazerac 1001100 3 2 0.45\n",
      "[('s', 0.89), ('a', 0.11), ('z', 0.1), ('e', 0.1), ('r', 0.88), ('a', 0.11), ('c', 0.1)]\n",
      "revictualed 10100010000 3 4 0.29\n",
      "[('r', 0.89), ('e', 0.11), ('v', 0.89), ('i', 0.11), ('c', 0.1), ('t', 0.89), ('u', 0.11), ('a', 0.89), ('l', 0.11), ('e', 0.1), ('d', 0.1)]\n",
      "auslese 1001010 3 2 0.46\n",
      "[('a', 0.89), ('u', 0.11), ('s', 0.1), ('l', 0.89), ('e', 0.11), ('s', 0.1), ('e', 0.1)]\n",
      "genoa 10011 3 2 0.55\n",
      "[('g', 0.89), ('e', 0.11), ('n', 0.88), ('o', 0.12), ('a', 0.11)]\n",
      "snappier 10001010 3 2 0.35\n",
      "[('s', 0.89), ('n', 0.11), ('a', 0.1), ('p', 0.1), ('p', 0.89), ('i', 0.11), ('e', 0.23), ('r', 0.1)]\n",
      "super 10000 1 2 0.57\n",
      "[('s', 0.89), ('u', 0.11), ('p', 0.89), ('e', 0.11), ('r', 0.1)]\n",
      "santarm 1001010 3 2 0.46\n",
      "[('s', 0.89), ('a', 0.11), ('n', 0.1), ('t', 0.89), ('a', 0.11), ('r', 0.1), ('m', 0.1)]\n",
      "ita 100 1 2 0.71\n",
      "[('i', 0.89), ('t', 0.89), ('a', 0.11)]\n",
      "adors 11001 3 2 0.57\n",
      "[('a', 0.89), ('d', 0.89), ('o', 0.11), ('r', 0.1), ('s', 0.11)]\n"
     ]
    }
   ],
   "source": [
    "hard_words = {'words': [], 'syl_seq': [], 'syls': []}\n",
    "for idx in range(1000):\n",
    "    yhat = counter.predict(df['words'][idx], return_confidence = True, return_sequence = True)\n",
    "    if yhat['num_syls'] != df['syls'][idx]:\n",
    "        hard_words['words'].append(df['words'][idx])\n",
    "        hard_words['syl_seq'].append(df['syl_seq'][idx])\n",
    "        hard_words['syls'].append(df['syls'][idx])\n",
    "        print(df['words'][idx], df['syl_seq'][idx], df['syls'][idx], yhat['num_syls'], yhat['confidence'])\n",
    "        print(yhat['probs'])"
   ]
  },
  {
   "cell_type": "code",
   "execution_count": null,
   "metadata": {},
   "outputs": [],
   "source": [
    "while True:\n",
    "    words = input()\n",
    "    outputs = counter.predict(words, return_sequence = True, pred_threshold = 0.5)\n",
    "    string = ''.join([ctext(f'{char} ', deg) for char, deg in outputs['probs']])\n",
    "    printmd(f'{string}&nbsp;= {outputs[\"num_syls\"]} syllables', size = 5)"
   ]
  },
  {
   "cell_type": "code",
   "execution_count": null,
   "metadata": {},
   "outputs": [],
   "source": []
  }
 ],
 "metadata": {
  "kernelspec": {
   "display_name": "Python 3",
   "language": "python",
   "name": "python3"
  },
  "language_info": {
   "codemirror_mode": {
    "name": "ipython",
    "version": 3
   },
   "file_extension": ".py",
   "mimetype": "text/x-python",
   "name": "python",
   "nbconvert_exporter": "python",
   "pygments_lexer": "ipython3",
   "version": "3.6.8"
  }
 },
 "nbformat": 4,
 "nbformat_minor": 2
}
