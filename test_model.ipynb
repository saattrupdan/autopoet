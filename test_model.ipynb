{
 "cells": [
  {
   "cell_type": "code",
   "execution_count": 1,
   "metadata": {},
   "outputs": [],
   "source": [
    "from syllablecounter import load_model, get_data\n",
    "import numpy as np"
   ]
  },
  {
   "cell_type": "code",
   "execution_count": 2,
   "metadata": {},
   "outputs": [],
   "source": [
    "def printmd(string, size = 3):\n",
    "    from IPython.display import Markdown, display\n",
    "    display(Markdown(f'<font size = {size}>{string}</font>'))\n",
    "def green(string, deg = 1):\n",
    "    return f'<span style = \"background-color:hsl(125, {deg * 100}%, 50%);\">{string}</span>'\n",
    "def red(string, deg = 1):\n",
    "    return f'<span style = \"background-color:hsl(0, {deg * 100}%, 50%);\">{string}</span>'\n",
    "def ctext(string, deg = 0.5):\n",
    "    deg = 2 * deg - 1\n",
    "    if deg > 0:\n",
    "        return green(string, deg)\n",
    "    else:\n",
    "        return red(string, -deg)"
   ]
  },
  {
   "cell_type": "code",
   "execution_count": 3,
   "metadata": {},
   "outputs": [
    {
     "data": {
      "text/plain": [
       "SyllableCounter(\n",
       "  (embed): Embedding(30, 64)\n",
       "  (rnn): GRU(64, 128, num_layers=3, dropout=0.1, bidirectional=True)\n",
       "  (drops): ModuleList(\n",
       "    (0): Dropout(p=0.5, inplace=False)\n",
       "  )\n",
       "  (norms): ModuleList(\n",
       "    (0): BatchNorm1d(256, eps=1e-05, momentum=0.1, affine=True, track_running_stats=True)\n",
       "  )\n",
       "  (lins): ModuleList(\n",
       "    (0): Linear(in_features=256, out_features=256, bias=True)\n",
       "  )\n",
       "  (out): Linear(in_features=256, out_features=1, bias=True)\n",
       ")"
      ]
     },
     "execution_count": 3,
     "metadata": {},
     "output_type": "execute_result"
    }
   ],
   "source": [
    "counter = load_model()\n",
    "counter"
   ]
  },
  {
   "cell_type": "code",
   "execution_count": 4,
   "metadata": {},
   "outputs": [
    {
     "data": {
      "text/html": [
       "<div>\n",
       "<style scoped>\n",
       "    .dataframe tbody tr th:only-of-type {\n",
       "        vertical-align: middle;\n",
       "    }\n",
       "\n",
       "    .dataframe tbody tr th {\n",
       "        vertical-align: top;\n",
       "    }\n",
       "\n",
       "    .dataframe thead th {\n",
       "        text-align: right;\n",
       "    }\n",
       "</style>\n",
       "<table border=\"1\" class=\"dataframe\">\n",
       "  <thead>\n",
       "    <tr style=\"text-align: right;\">\n",
       "      <th></th>\n",
       "      <th>words</th>\n",
       "      <th>syl_seq</th>\n",
       "      <th>syls</th>\n",
       "    </tr>\n",
       "  </thead>\n",
       "  <tbody>\n",
       "    <tr>\n",
       "      <th>0</th>\n",
       "      <td>nondistillation</td>\n",
       "      <td>100100100101000</td>\n",
       "      <td>5</td>\n",
       "    </tr>\n",
       "    <tr>\n",
       "      <th>1</th>\n",
       "      <td>transitoriness</td>\n",
       "      <td>10001010101000</td>\n",
       "      <td>5</td>\n",
       "    </tr>\n",
       "    <tr>\n",
       "      <th>2</th>\n",
       "      <td>bipyramidal</td>\n",
       "      <td>10101001100</td>\n",
       "      <td>5</td>\n",
       "    </tr>\n",
       "    <tr>\n",
       "      <th>3</th>\n",
       "      <td>nonciteable</td>\n",
       "      <td>10010001100</td>\n",
       "      <td>4</td>\n",
       "    </tr>\n",
       "    <tr>\n",
       "      <th>4</th>\n",
       "      <td>livebearer</td>\n",
       "      <td>1000100010</td>\n",
       "      <td>3</td>\n",
       "    </tr>\n",
       "  </tbody>\n",
       "</table>\n",
       "</div>"
      ],
      "text/plain": [
       "             words          syl_seq  syls\n",
       "0  nondistillation  100100100101000     5\n",
       "1   transitoriness   10001010101000     5\n",
       "2      bipyramidal      10101001100     5\n",
       "3      nonciteable      10010001100     4\n",
       "4       livebearer       1000100010     3"
      ]
     },
     "execution_count": 4,
     "metadata": {},
     "output_type": "execute_result"
    }
   ],
   "source": [
    "import pandas as pd\n",
    "df = pd.read_csv('data/gutsyls.tsv', sep = '\\t')\n",
    "df.head()"
   ]
  },
  {
   "cell_type": "code",
   "execution_count": 5,
   "metadata": {},
   "outputs": [
    {
     "name": "stdout",
     "output_type": "stream",
     "text": [
      "ath 100 2 1 0.88\n",
      "[('a', 0.9), ('t', 0.01), ('h', 0.0)]\n",
      "paleographer 101010101000 5 4 0.39\n",
      "[('p', 0.9), ('a', 0.0), ('l', 0.34), ('e', 0.04), ('o', 0.9), ('g', 0.01), ('r', 0.89), ('a', 0.0), ('p', 0.89), ('h', 0.0), ('e', 0.01), ('r', 0.0)]\n",
      "ironsides 110010000 3 4 0.53\n",
      "[('i', 0.9), ('r', 0.9), ('o', 0.0), ('n', 0.0), ('s', 0.89), ('i', 0.01), ('d', 0.82), ('e', 0.09), ('s', 0.0)]\n",
      "nauseousness 100100001000 3 4 0.64\n",
      "[('n', 0.9), ('a', 0.0), ('u', 0.0), ('s', 0.9), ('e', 0.01), ('o', 0.9), ('u', 0.0), ('s', 0.0), ('n', 0.9), ('e', 0.0), ('s', 0.0), ('s', 0.0)]\n",
      "ursprache 101000100 3 2 0.73\n",
      "[('u', 0.9), ('r', 0.0), ('s', 0.88), ('p', 0.01), ('r', 0.0), ('a', 0.0), ('c', 0.05), ('h', 0.0), ('e', 0.01)]\n",
      "faery 10110 3 2 0.26\n",
      "[('f', 0.89), ('a', 0.0), ('e', 0.21), ('r', 0.56), ('y', 0.34)]\n",
      "odonovan 10001100 3 4 0.46\n",
      "[('o', 0.89), ('d', 0.87), ('o', 0.03), ('n', 0.11), ('o', 0.8), ('v', 0.88), ('a', 0.03), ('n', 0.0)]\n",
      "nkrumah 1000100 2 3 0.65\n",
      "[('n', 0.9), ('k', 0.88), ('r', 0.02), ('u', 0.0), ('m', 0.88), ('a', 0.01), ('h', 0.03)]\n",
      "beloved 1010010 3 2 0.74\n",
      "[('b', 0.9), ('e', 0.0), ('l', 0.89), ('o', 0.02), ('v', 0.02), ('e', 0.03), ('d', 0.0)]\n",
      "colonelship 10001001000 3 4 0.56\n",
      "[('c', 0.9), ('o', 0.0), ('l', 0.03), ('o', 0.87), ('n', 0.87), ('e', 0.03), ('l', 0.0), ('s', 0.89), ('h', 0.0), ('i', 0.0), ('p', 0.0)]\n",
      "conon 10000 1 2 0.4\n",
      "[('c', 0.9), ('o', 0.0), ('n', 0.27), ('o', 0.62), ('n', 0.0)]\n",
      "canaria 1010100 3 4 0.41\n",
      "[('c', 0.9), ('a', 0.0), ('n', 0.88), ('a', 0.02), ('r', 0.18), ('i', 0.73), ('a', 0.89)]\n",
      "michele 1010010 3 2 0.46\n",
      "[('m', 0.89), ('i', 0.0), ('c', 0.68), ('h', 0.01), ('e', 0.19), ('l', 0.05), ('e', 0.0)]\n",
      "vory 1010 3 2 0.45\n",
      "[('v', 0.9), ('o', 0.0), ('r', 0.66), ('y', 0.23)]\n",
      "pase 1010 2 1 0.88\n",
      "[('p', 0.89), ('a', 0.0), ('s', 0.01), ('e', 0.0)]\n",
      "arax 1101 3 2 0.39\n",
      "[('a', 0.89), ('r', 0.27), ('a', 0.61), ('x', 0.01)]\n",
      "quarrion 10001000 2 3 0.71\n",
      "[('q', 0.9), ('u', 0.0), ('a', 0.0), ('r', 0.0), ('r', 0.9), ('i', 0.01), ('o', 0.9), ('n', 0.0)]\n",
      "ain 110 2 1 0.88\n",
      "[('a', 0.89), ('i', 0.01), ('n', 0.0)]\n",
      "ra 10 2 1 0.89\n",
      "[('r', 0.89), ('a', 0.0)]\n",
      "sland 11000 2 1 0.85\n",
      "[('s', 0.88), ('l', 0.02), ('a', 0.0), ('n', 0.0), ('d', 0.01)]\n",
      "dates 10000 1 2 0.42\n",
      "[('d', 0.9), ('a', 0.0), ('t', 0.63), ('e', 0.26), ('s', 0.0)]\n",
      "jefe 1010 2 1 0.84\n",
      "[('j', 0.88), ('e', 0.0), ('f', 0.04), ('e', 0.0)]\n",
      "gntrix 111000 3 2 0.8\n",
      "[('g', 0.9), ('n', 0.0), ('t', 0.89), ('r', 0.0), ('i', 0.0), ('x', 0.0)]\n",
      "jurisp 100000 1 2 0.69\n",
      "[('j', 0.9), ('u', 0.0), ('r', 0.83), ('i', 0.07), ('s', 0.0), ('p', 0.0)]\n"
     ]
    }
   ],
   "source": [
    "hard_words = {'words': [], 'syl_seq': [], 'syls': []}\n",
    "for idx in np.random.choice(range(len(df)), size = 1000):\n",
    "    yhat = counter.predict(df['words'][idx], return_confidence = True, return_sequence = True)\n",
    "    if yhat['num_syls'] != df['syls'][idx]:\n",
    "        hard_words['words'].append(df['words'][idx])\n",
    "        hard_words['syl_seq'].append(df['syl_seq'][idx])\n",
    "        hard_words['syls'].append(df['syls'][idx])\n",
    "        print(df['words'][idx], df['syl_seq'][idx], df['syls'][idx], yhat['num_syls'], yhat['confidence'])\n",
    "        print(yhat['probs'])"
   ]
  },
  {
   "cell_type": "code",
   "execution_count": null,
   "metadata": {},
   "outputs": [
    {
     "name": "stdout",
     "output_type": "stream",
     "text": [
      "a\n"
     ]
    },
    {
     "data": {
      "text/markdown": [
       "<font size = 5><span style = \"background-color:hsl(125, 77.99999713897705%, 50%);\">a</span>&nbsp;= 1 syllables</font>"
      ],
      "text/plain": [
       "<IPython.core.display.Markdown object>"
      ]
     },
     "metadata": {},
     "output_type": "display_data"
    }
   ],
   "source": [
    "while True:\n",
    "    words = input()\n",
    "    outputs = counter.predict(words, return_sequence = True, pred_threshold = 0.5)\n",
    "    string = ''.join([ctext(f'{char}', deg) for char, deg in outputs['probs']])\n",
    "    printmd(f'{string}&nbsp;= {outputs[\"num_syls\"]} syllables', size = 5)"
   ]
  },
  {
   "cell_type": "code",
   "execution_count": null,
   "metadata": {},
   "outputs": [],
   "source": []
  }
 ],
 "metadata": {
  "kernelspec": {
   "display_name": "Python 3",
   "language": "python",
   "name": "python3"
  },
  "language_info": {
   "codemirror_mode": {
    "name": "ipython",
    "version": 3
   },
   "file_extension": ".py",
   "mimetype": "text/x-python",
   "name": "python",
   "nbconvert_exporter": "python",
   "pygments_lexer": "ipython3",
   "version": "3.6.8"
  }
 },
 "nbformat": 4,
 "nbformat_minor": 2
}
