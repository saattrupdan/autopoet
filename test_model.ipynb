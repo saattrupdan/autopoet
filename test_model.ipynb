{
 "cells": [
  {
   "cell_type": "code",
   "execution_count": 1,
   "metadata": {},
   "outputs": [],
   "source": [
    "from syllablecounter import load_model, get_data"
   ]
  },
  {
   "cell_type": "code",
   "execution_count": 2,
   "metadata": {},
   "outputs": [],
   "source": [
    "def printmd(string, size = 3):\n",
    "    from IPython.display import Markdown, display\n",
    "    display(Markdown(f'<font size = {size}>{string}</font>'))\n",
    "def green(string, deg = 1):\n",
    "    return f'<span style = \"background-color:hsl(125, {deg * 100}%, 50%);\">{string}</span>'\n",
    "def red(string, deg = 1):\n",
    "    return f'<span style = \"background-color:hsl(0, {deg * 100}%, 50%);\">{string}</span>'\n",
    "def ctext(string, deg = 0.5):\n",
    "    deg = 2 * deg - 1\n",
    "    if deg > 0:\n",
    "        return green(string, deg)\n",
    "    else:\n",
    "        return red(string, -deg)"
   ]
  },
  {
   "cell_type": "code",
   "execution_count": 3,
   "metadata": {},
   "outputs": [
    {
     "data": {
      "text/plain": [
       "SyllableCounter(\n",
       "  (embed): Embedding(30, 64)\n",
       "  (rnn): GRU(64, 128, num_layers=3, dropout=0.2, bidirectional=True)\n",
       "  (drops): ModuleList(\n",
       "    (0): Dropout(p=0.5, inplace=False)\n",
       "    (1): Dropout(p=0.5, inplace=False)\n",
       "  )\n",
       "  (norms): ModuleList(\n",
       "    (0): BatchNorm1d(256, eps=1e-05, momentum=0.1, affine=True, track_running_stats=True)\n",
       "    (1): BatchNorm1d(256, eps=1e-05, momentum=0.1, affine=True, track_running_stats=True)\n",
       "  )\n",
       "  (lins): ModuleList(\n",
       "    (0): Linear(in_features=256, out_features=256, bias=True)\n",
       "    (1): Linear(in_features=256, out_features=256, bias=True)\n",
       "  )\n",
       "  (out): Linear(in_features=256, out_features=1, bias=True)\n",
       ")"
      ]
     },
     "execution_count": 3,
     "metadata": {},
     "output_type": "execute_result"
    }
   ],
   "source": [
    "counter = load_model()\n",
    "counter"
   ]
  },
  {
   "cell_type": "code",
   "execution_count": 4,
   "metadata": {},
   "outputs": [
    {
     "data": {
      "text/html": [
       "<div>\n",
       "<style scoped>\n",
       "    .dataframe tbody tr th:only-of-type {\n",
       "        vertical-align: middle;\n",
       "    }\n",
       "\n",
       "    .dataframe tbody tr th {\n",
       "        vertical-align: top;\n",
       "    }\n",
       "\n",
       "    .dataframe thead th {\n",
       "        text-align: right;\n",
       "    }\n",
       "</style>\n",
       "<table border=\"1\" class=\"dataframe\">\n",
       "  <thead>\n",
       "    <tr style=\"text-align: right;\">\n",
       "      <th></th>\n",
       "      <th>words</th>\n",
       "      <th>syl_seq</th>\n",
       "      <th>syls</th>\n",
       "    </tr>\n",
       "  </thead>\n",
       "  <tbody>\n",
       "    <tr>\n",
       "      <th>0</th>\n",
       "      <td>nondistillation</td>\n",
       "      <td>100100100101000</td>\n",
       "      <td>5</td>\n",
       "    </tr>\n",
       "    <tr>\n",
       "      <th>1</th>\n",
       "      <td>transitoriness</td>\n",
       "      <td>10001010101000</td>\n",
       "      <td>5</td>\n",
       "    </tr>\n",
       "    <tr>\n",
       "      <th>2</th>\n",
       "      <td>bipyramidal</td>\n",
       "      <td>10101001100</td>\n",
       "      <td>5</td>\n",
       "    </tr>\n",
       "    <tr>\n",
       "      <th>3</th>\n",
       "      <td>nonciteable</td>\n",
       "      <td>10010001100</td>\n",
       "      <td>4</td>\n",
       "    </tr>\n",
       "    <tr>\n",
       "      <th>4</th>\n",
       "      <td>livebearer</td>\n",
       "      <td>1000100010</td>\n",
       "      <td>3</td>\n",
       "    </tr>\n",
       "  </tbody>\n",
       "</table>\n",
       "</div>"
      ],
      "text/plain": [
       "             words          syl_seq  syls\n",
       "0  nondistillation  100100100101000     5\n",
       "1   transitoriness   10001010101000     5\n",
       "2      bipyramidal      10101001100     5\n",
       "3      nonciteable      10010001100     4\n",
       "4       livebearer       1000100010     3"
      ]
     },
     "execution_count": 4,
     "metadata": {},
     "output_type": "execute_result"
    }
   ],
   "source": [
    "import pandas as pd\n",
    "df = pd.read_csv('data/gutsyls.tsv', sep = '\\t')\n",
    "df.head()"
   ]
  },
  {
   "cell_type": "code",
   "execution_count": 5,
   "metadata": {},
   "outputs": [
    {
     "name": "stdout",
     "output_type": "stream",
     "text": [
      "siobhan 1001000 2 3 0.4\n",
      "[('s', 0.9), ('i', 0.12), ('o', 0.89), ('b', 0.87), ('h', 0.15), ('a', 0.12), ('n', 0.12)]\n",
      "init 1000 1 2 0.56\n",
      "[('i', 0.89), ('n', 0.19), ('i', 0.86), ('t', 0.11)]\n",
      "bandaranaike 100101010110 6 4 0.22\n",
      "[('b', 0.9), ('a', 0.11), ('n', 0.11), ('d', 0.9), ('a', 0.12), ('r', 0.17), ('a', 0.86), ('n', 0.89), ('a', 0.13), ('i', 0.11), ('k', 0.11), ('e', 0.12)]\n",
      "lemonnier 101001000 3 4 0.28\n",
      "[('l', 0.9), ('e', 0.12), ('m', 0.82), ('o', 0.22), ('n', 0.11), ('n', 0.9), ('i', 0.12), ('e', 0.89), ('r', 0.12)]\n",
      "endostea 10100101 4 3 0.37\n",
      "[('e', 0.9), ('n', 0.11), ('d', 0.9), ('o', 0.12), ('s', 0.13), ('t', 0.87), ('e', 0.13), ('a', 0.12)]\n",
      "tandoori 10010001 3 4 0.29\n",
      "[('t', 0.9), ('a', 0.11), ('n', 0.11), ('d', 0.89), ('o', 0.13), ('o', 0.68), ('r', 0.89), ('i', 0.14)]\n",
      "penitente 100110010 4 3 0.33\n",
      "[('p', 0.9), ('e', 0.11), ('n', 0.14), ('i', 0.88), ('t', 0.89), ('e', 0.14), ('n', 0.11), ('t', 0.1), ('e', 0.1)]\n",
      "molise 101010 3 2 0.38\n",
      "[('m', 0.9), ('o', 0.12), ('l', 0.25), ('i', 0.81), ('s', 0.12), ('e', 0.11)]\n",
      "serapeum 10011010 4 3 0.34\n",
      "[('s', 0.9), ('e', 0.12), ('r', 0.18), ('a', 0.86), ('p', 0.89), ('e', 0.13), ('u', 0.12), ('m', 0.12)]\n",
      "inertia 1010100 3 4 0.42\n",
      "[('i', 0.9), ('n', 0.12), ('e', 0.9), ('r', 0.11), ('t', 0.9), ('i', 0.12), ('a', 0.83)]\n",
      "noncivilian 10010100100 4 5 0.18\n",
      "[('n', 0.9), ('o', 0.11), ('n', 0.11), ('c', 0.9), ('i', 0.12), ('v', 0.87), ('i', 0.16), ('l', 0.31), ('i', 0.79), ('a', 0.89), ('n', 0.11)]\n",
      "liwn 1010 2 1 0.63\n",
      "[('l', 0.9), ('i', 0.11), ('w', 0.11), ('n', 0.11)]\n",
      "siena 10101 3 2 0.53\n",
      "[('s', 0.9), ('i', 0.12), ('e', 0.11), ('n', 0.87), ('a', 0.15)]\n",
      "archaised 101001000 3 2 0.35\n",
      "[('a', 0.9), ('r', 0.11), ('c', 0.9), ('h', 0.12), ('a', 0.11), ('i', 0.11), ('s', 0.11), ('e', 0.11), ('d', 0.11)]\n",
      "parnaiba 10010110 4 3 0.38\n",
      "[('p', 0.9), ('a', 0.11), ('r', 0.11), ('n', 0.89), ('a', 0.12), ('i', 0.12), ('b', 0.89), ('a', 0.13)]\n",
      "aphrodite 100101010 4 3 0.26\n",
      "[('a', 0.88), ('p', 0.83), ('h', 0.19), ('r', 0.14), ('o', 0.12), ('d', 0.87), ('i', 0.15), ('t', 0.11), ('e', 0.11)]\n",
      "glacing 1001100 3 2 0.44\n",
      "[('g', 0.9), ('l', 0.11), ('a', 0.11), ('c', 0.12), ('i', 0.89), ('n', 0.11), ('g', 0.1)]\n",
      "probusiness 10010001000 3 4 0.25\n",
      "[('p', 0.9), ('r', 0.11), ('o', 0.11), ('b', 0.89), ('u', 0.12), ('s', 0.16), ('i', 0.87), ('n', 0.89), ('e', 0.12), ('s', 0.11), ('s', 0.11)]\n",
      "reichsfhrer 10000010100 3 2 0.21\n",
      "[('r', 0.9), ('e', 0.12), ('i', 0.25), ('c', 0.12), ('h', 0.12), ('s', 0.12), ('f', 0.86), ('h', 0.12), ('r', 0.12), ('e', 0.11), ('r', 0.11)]\n",
      "zospore 1000000 1 2 0.35\n",
      "[('z', 0.9), ('o', 0.12), ('s', 0.21), ('p', 0.83), ('o', 0.13), ('r', 0.11), ('e', 0.11)]\n",
      "paratences 1001100000 3 4 0.26\n",
      "[('p', 0.9), ('a', 0.11), ('r', 0.19), ('a', 0.85), ('t', 0.89), ('e', 0.14), ('n', 0.11), ('c', 0.9), ('e', 0.12), ('s', 0.11)]\n",
      "ameliorated 11001010010 5 6 0.16\n",
      "[('a', 0.89), ('m', 0.87), ('e', 0.18), ('l', 0.25), ('i', 0.81), ('o', 0.86), ('r', 0.85), ('a', 0.19), ('t', 0.12), ('e', 0.9), ('d', 0.12)]\n",
      "amintore 11001010 4 3 0.35\n",
      "[('a', 0.89), ('m', 0.86), ('i', 0.19), ('n', 0.11), ('t', 0.9), ('o', 0.12), ('r', 0.11), ('e', 0.11)]\n",
      "brul 1001 2 1 0.63\n",
      "[('b', 0.9), ('r', 0.11), ('u', 0.11), ('l', 0.11)]\n",
      "arimathea 101101001 5 4 0.17\n",
      "[('a', 0.9), ('r', 0.15), ('i', 0.88), ('m', 0.89), ('a', 0.14), ('t', 0.21), ('h', 0.26), ('e', 0.66), ('a', 0.16)]\n",
      "beriosova 100101010 4 5 0.3\n",
      "[('b', 0.9), ('e', 0.12), ('r', 0.87), ('i', 0.17), ('o', 0.89), ('s', 0.89), ('o', 0.15), ('v', 0.89), ('a', 0.13)]\n",
      "baul 1010 2 1 0.63\n",
      "[('b', 0.9), ('a', 0.11), ('u', 0.11), ('l', 0.11)]\n",
      "bartk 10010 2 1 0.56\n",
      "[('b', 0.9), ('a', 0.11), ('r', 0.11), ('t', 0.11), ('k', 0.11)]\n",
      "obad 1000 1 2 0.58\n",
      "[('o', 0.89), ('b', 0.88), ('a', 0.16), ('d', 0.12)]\n",
      "prayerfulness 1000001001000 3 4 0.21\n",
      "[('p', 0.9), ('r', 0.11), ('a', 0.11), ('y', 0.14), ('e', 0.88), ('r', 0.11), ('f', 0.9), ('u', 0.11), ('l', 0.11), ('n', 0.89), ('e', 0.12), ('s', 0.11), ('s', 0.11)]\n",
      "preoesophageal 10010100011010 6 7 0.1\n",
      "[('p', 0.9), ('r', 0.11), ('e', 0.11), ('o', 0.89), ('e', 0.74), ('s', 0.84), ('o', 0.22), ('p', 0.89), ('h', 0.12), ('a', 0.12), ('g', 0.86), ('e', 0.17), ('a', 0.75), ('l', 0.12)]\n",
      "kneepiece 100010000 2 3 0.28\n",
      "[('k', 0.9), ('n', 0.12), ('e', 0.11), ('e', 0.11), ('p', 0.88), ('i', 0.15), ('e', 0.74), ('c', 0.1), ('e', 0.1)]\n",
      "derrire 1001010 3 2 0.44\n",
      "[('d', 0.9), ('e', 0.12), ('r', 0.12), ('r', 0.89), ('i', 0.12), ('r', 0.11), ('e', 0.11)]\n",
      "theurgical 1001010100 4 3 0.1\n",
      "[('t', 0.9), ('h', 0.12), ('e', 0.11), ('u', 0.12), ('r', 0.45), ('g', 0.38), ('i', 0.63), ('c', 0.9), ('a', 0.12), ('l', 0.11)]\n",
      "tumefacient 10101010100 5 4 0.27\n",
      "[('t', 0.9), ('u', 0.11), ('m', 0.9), ('e', 0.12), ('f', 0.9), ('a', 0.13), ('c', 0.9), ('i', 0.12), ('e', 0.11), ('n', 0.11), ('t', 0.11)]\n",
      "glau 1000 2 1 0.63\n",
      "[('g', 0.9), ('l', 0.11), ('a', 0.11), ('u', 0.12)]\n",
      "magnesia 10010100 3 4 0.35\n",
      "[('m', 0.9), ('a', 0.11), ('g', 0.12), ('n', 0.9), ('e', 0.12), ('s', 0.87), ('i', 0.17), ('a', 0.87)]\n",
      "romane-conti 101010010010 5 4 0.2\n",
      "[('r', 0.9), ('o', 0.12), ('m', 0.82), ('a', 0.23), ('n', 0.11), ('e', 0.11), ('-', 0.1), ('c', 0.9), ('o', 0.11), ('n', 0.11), ('t', 0.9), ('i', 0.12)]\n",
      "benzoin 1001010 3 2 0.45\n",
      "[('b', 0.9), ('e', 0.11), ('n', 0.11), ('z', 0.9), ('o', 0.12), ('i', 0.11), ('n', 0.11)]\n",
      "appoggiaturas 1010010010100 5 6 0.08\n",
      "[('a', 0.9), ('p', 0.11), ('p', 0.91), ('o', 0.11), ('g', 0.11), ('g', 0.9), ('i', 0.12), ('a', 0.89), ('t', 0.67), ('u', 0.37), ('r', 0.75), ('a', 0.33), ('s', 0.12)]\n",
      "guapor 100101 3 2 0.48\n",
      "[('g', 0.9), ('u', 0.11), ('a', 0.11), ('p', 0.88), ('o', 0.14), ('r', 0.12)]\n"
     ]
    }
   ],
   "source": [
    "hard_words = {'words': [], 'syl_seq': [], 'syls': []}\n",
    "for idx in range(1000):\n",
    "    yhat = counter.predict(df['words'][idx], return_confidence = True, return_sequence = True)\n",
    "    if yhat['num_syls'] != df['syls'][idx]:\n",
    "        hard_words['words'].append(df['words'][idx])\n",
    "        hard_words['syl_seq'].append(df['syl_seq'][idx])\n",
    "        hard_words['syls'].append(df['syls'][idx])\n",
    "        print(df['words'][idx], df['syl_seq'][idx], df['syls'][idx], yhat['num_syls'], yhat['confidence'])\n",
    "        print(yhat['probs'])"
   ]
  },
  {
   "cell_type": "code",
   "execution_count": null,
   "metadata": {},
   "outputs": [],
   "source": [
    "while True:\n",
    "    words = input()\n",
    "    outputs = counter.predict(words, return_sequence = True, pred_threshold = 0.5)\n",
    "    string = ''.join([ctext(f'{char} ', deg) for char, deg in outputs['probs']])\n",
    "    printmd(f'{string}&nbsp;= {outputs[\"num_syls\"]} syllables', size = 5)"
   ]
  },
  {
   "cell_type": "code",
   "execution_count": null,
   "metadata": {},
   "outputs": [],
   "source": []
  }
 ],
 "metadata": {
  "kernelspec": {
   "display_name": "Python 3",
   "language": "python",
   "name": "python3"
  },
  "language_info": {
   "codemirror_mode": {
    "name": "ipython",
    "version": 3
   },
   "file_extension": ".py",
   "mimetype": "text/x-python",
   "name": "python",
   "nbconvert_exporter": "python",
   "pygments_lexer": "ipython3",
   "version": "3.7.4"
  }
 },
 "nbformat": 4,
 "nbformat_minor": 2
}
