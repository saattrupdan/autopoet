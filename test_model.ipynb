{
 "cells": [
  {
   "cell_type": "code",
   "execution_count": 1,
   "metadata": {},
   "outputs": [],
   "source": [
    "from syllablecounter import load_model"
   ]
  },
  {
   "cell_type": "code",
   "execution_count": 2,
   "metadata": {},
   "outputs": [
    {
     "data": {
      "text/plain": [
       "SyllableCounter(\n",
       "  (embed): Embedding(28, 50)\n",
       "  (embed_drop): LockedDropout(p=0.2)\n",
       "  (enc): GRU(50, 256, bidirectional=True)\n",
       "  (enc_bn): TBatchNorm(\n",
       "    (bn): BatchNorm1d(512, eps=1e-05, momentum=0.1, affine=True, track_running_stats=True)\n",
       "  )\n",
       "  (enc_drop): LockedDropout(p=0.2)\n",
       "  (enc_lin): Linear(in_features=512, out_features=256, bias=True)\n",
       "  (enc_lin_bn): TBatchNorm(\n",
       "    (bn): BatchNorm1d(256, eps=1e-05, momentum=0.1, affine=True, track_running_stats=True)\n",
       "  )\n",
       "  (enc_lin_drop): LockedDropout(p=0.5)\n",
       "  (dec): GRU(256, 64, bidirectional=True)\n",
       "  (dec_bn): TBatchNorm(\n",
       "    (bn): BatchNorm1d(128, eps=1e-05, momentum=0.1, affine=True, track_running_stats=True)\n",
       "  )\n",
       "  (dec_drop): LockedDropout(p=0.2)\n",
       "  (dec_lin): Linear(in_features=128, out_features=1, bias=True)\n",
       ")"
      ]
     },
     "execution_count": 2,
     "metadata": {},
     "output_type": "execute_result"
    }
   ],
   "source": [
    "counter = load_model()\n",
    "counter"
   ]
  },
  {
   "cell_type": "code",
   "execution_count": 3,
   "metadata": {},
   "outputs": [],
   "source": [
    "def printmd(string, size = 3):\n",
    "    from IPython.display import Markdown, display\n",
    "    display(Markdown(f'<font size = {size}>{string}</font>'))\n",
    "def green(string, deg = 1):\n",
    "    return f'<span style = \"background-color:hsl(125, {deg * 100}%, 50%);\">{string}</span>'\n",
    "def red(string, deg = 1):\n",
    "    return f'<span style = \"background-color:hsl(0, {deg * 100}%, 50%);\">{string}</span>'\n",
    "def ctext(string, deg = 0.5):\n",
    "    deg = 2 * deg - 1\n",
    "    if deg > 0:\n",
    "        return green(string, deg)\n",
    "    else:\n",
    "        return red(string, -deg)"
   ]
  },
  {
   "cell_type": "code",
   "execution_count": null,
   "metadata": {},
   "outputs": [
    {
     "name": "stdout",
     "output_type": "stream",
     "text": [
      "cofinality\n"
     ]
    },
    {
     "data": {
      "text/markdown": [
       "<font size = 5><span style = \"background-color:hsl(125, 100.0%, 50%);\">c </span><span style = \"background-color:hsl(0, 100.0%, 50%);\">o </span><span style = \"background-color:hsl(0, 62.00000047683716%, 50%);\">f </span><span style = \"background-color:hsl(125, 63.999998569488525%, 50%);\">i </span><span style = \"background-color:hsl(0, 76.0000005364418%, 50%);\">n </span><span style = \"background-color:hsl(125, 67.99999475479126%, 50%);\">a </span><span style = \"background-color:hsl(0, 100.0%, 50%);\">l </span><span style = \"background-color:hsl(125, 100.0%, 50%);\">i </span><span style = \"background-color:hsl(125, 100.0%, 50%);\">t </span><span style = \"background-color:hsl(0, 100.0%, 50%);\">y </span>&nbsp;= 5 syllables</font>"
      ],
      "text/plain": [
       "<IPython.core.display.Markdown object>"
      ]
     },
     "metadata": {},
     "output_type": "display_data"
    },
    {
     "name": "stdout",
     "output_type": "stream",
     "text": [
      "cofinal\n"
     ]
    },
    {
     "data": {
      "text/markdown": [
       "<font size = 5><span style = \"background-color:hsl(125, 100.0%, 50%);\">c </span><span style = \"background-color:hsl(0, 100.0%, 50%);\">o </span><span style = \"background-color:hsl(125, 51.99999809265137%, 50%);\">f </span><span style = \"background-color:hsl(0, 36.000001430511475%, 50%);\">i </span><span style = \"background-color:hsl(0, 52.000001072883606%, 50%);\">n </span><span style = \"background-color:hsl(125, 50.0%, 50%);\">a </span><span style = \"background-color:hsl(0, 100.0%, 50%);\">l </span>&nbsp;= 3 syllables</font>"
      ],
      "text/plain": [
       "<IPython.core.display.Markdown object>"
      ]
     },
     "metadata": {},
     "output_type": "display_data"
    },
    {
     "name": "stdout",
     "output_type": "stream",
     "text": [
      "finality\n"
     ]
    },
    {
     "data": {
      "text/markdown": [
       "<font size = 5><span style = \"background-color:hsl(125, 100.0%, 50%);\">f </span><span style = \"background-color:hsl(0, 100.0%, 50%);\">i </span><span style = \"background-color:hsl(125, 98.00000190734863%, 50%);\">n </span><span style = \"background-color:hsl(0, 98.00000004470348%, 50%);\">a </span><span style = \"background-color:hsl(0, 98.00000004470348%, 50%);\">l </span><span style = \"background-color:hsl(125, 98.00000190734863%, 50%);\">i </span><span style = \"background-color:hsl(125, 100.0%, 50%);\">t </span><span style = \"background-color:hsl(0, 100.0%, 50%);\">y </span>&nbsp;= 4 syllables</font>"
      ],
      "text/plain": [
       "<IPython.core.display.Markdown object>"
      ]
     },
     "metadata": {},
     "output_type": "display_data"
    }
   ],
   "source": [
    "while True:\n",
    "    words = input()\n",
    "    outputs = counter.predict(words, return_sequence = True, pred_threshold = 0.5)\n",
    "    string = ''.join([ctext(f'{char} ', deg) for char, deg in outputs['probs']])\n",
    "    printmd(f'{string}&nbsp;= {outputs[\"num_syls\"]} syllables', size = 5)"
   ]
  },
  {
   "cell_type": "code",
   "execution_count": null,
   "metadata": {},
   "outputs": [],
   "source": []
  }
 ],
 "metadata": {
  "kernelspec": {
   "display_name": "Python 3",
   "language": "python",
   "name": "python3"
  },
  "language_info": {
   "codemirror_mode": {
    "name": "ipython",
    "version": 3
   },
   "file_extension": ".py",
   "mimetype": "text/x-python",
   "name": "python",
   "nbconvert_exporter": "python",
   "pygments_lexer": "ipython3",
   "version": "3.6.8"
  }
 },
 "nbformat": 4,
 "nbformat_minor": 2
}
