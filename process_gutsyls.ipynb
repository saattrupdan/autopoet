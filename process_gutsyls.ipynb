{
 "cells": [
  {
   "cell_type": "code",
   "execution_count": 1,
   "metadata": {},
   "outputs": [],
   "source": [
    "import pandas as pd\n",
    "import numpy as np"
   ]
  },
  {
   "cell_type": "code",
   "execution_count": 2,
   "metadata": {},
   "outputs": [
    {
     "data": {
      "text/html": [
       "<div>\n",
       "<style scoped>\n",
       "    .dataframe tbody tr th:only-of-type {\n",
       "        vertical-align: middle;\n",
       "    }\n",
       "\n",
       "    .dataframe tbody tr th {\n",
       "        vertical-align: top;\n",
       "    }\n",
       "\n",
       "    .dataframe thead th {\n",
       "        text-align: right;\n",
       "    }\n",
       "</style>\n",
       "<table border=\"1\" class=\"dataframe\">\n",
       "  <thead>\n",
       "    <tr style=\"text-align: right;\">\n",
       "      <th></th>\n",
       "      <th>words</th>\n",
       "    </tr>\n",
       "  </thead>\n",
       "  <tbody>\n",
       "    <tr>\n",
       "      <th>0</th>\n",
       "      <td>a cap¥pel¥la</td>\n",
       "    </tr>\n",
       "    <tr>\n",
       "      <th>1</th>\n",
       "      <td>a for¥ti¥o¥ri</td>\n",
       "    </tr>\n",
       "    <tr>\n",
       "      <th>2</th>\n",
       "      <td>a go¥go</td>\n",
       "    </tr>\n",
       "    <tr>\n",
       "      <th>3</th>\n",
       "      <td>a pos¥te¥ri¥o¥ri</td>\n",
       "    </tr>\n",
       "    <tr>\n",
       "      <th>4</th>\n",
       "      <td>a pri¥o¥ri</td>\n",
       "    </tr>\n",
       "  </tbody>\n",
       "</table>\n",
       "</div>"
      ],
      "text/plain": [
       "              words\n",
       "0      a cap¥pel¥la\n",
       "1     a for¥ti¥o¥ri\n",
       "2           a go¥go\n",
       "3  a pos¥te¥ri¥o¥ri\n",
       "4        a pri¥o¥ri"
      ]
     },
     "execution_count": 2,
     "metadata": {},
     "output_type": "execute_result"
    }
   ],
   "source": [
    "df_in = pd.read_csv('data/mhyph.txt', encoding = 'latin-1', header = None, names = ['words'])\n",
    "df_in.head()"
   ]
  },
  {
   "cell_type": "code",
   "execution_count": 3,
   "metadata": {},
   "outputs": [],
   "source": [
    "def split_or_nan(x):\n",
    "    import re\n",
    "    try:\n",
    "        return re.sub('¥$', '', re.sub('¥¥+', '¥', re.sub('[^¥a-zA-Z0-9 ]', '', x))).split()\n",
    "    except:\n",
    "        return np.nan"
   ]
  },
  {
   "cell_type": "code",
   "execution_count": 4,
   "metadata": {
    "scrolled": true
   },
   "outputs": [
    {
     "data": {
      "text/html": [
       "<div>\n",
       "<style scoped>\n",
       "    .dataframe tbody tr th:only-of-type {\n",
       "        vertical-align: middle;\n",
       "    }\n",
       "\n",
       "    .dataframe tbody tr th {\n",
       "        vertical-align: top;\n",
       "    }\n",
       "\n",
       "    .dataframe thead th {\n",
       "        text-align: right;\n",
       "    }\n",
       "</style>\n",
       "<table border=\"1\" class=\"dataframe\">\n",
       "  <thead>\n",
       "    <tr style=\"text-align: right;\">\n",
       "      <th></th>\n",
       "      <th>words</th>\n",
       "      <th>lists</th>\n",
       "    </tr>\n",
       "  </thead>\n",
       "  <tbody>\n",
       "    <tr>\n",
       "      <th>0</th>\n",
       "      <td>a cap¥pel¥la</td>\n",
       "      <td>[a, cap¥pel¥la]</td>\n",
       "    </tr>\n",
       "    <tr>\n",
       "      <th>1</th>\n",
       "      <td>a for¥ti¥o¥ri</td>\n",
       "      <td>[a, for¥ti¥o¥ri]</td>\n",
       "    </tr>\n",
       "    <tr>\n",
       "      <th>2</th>\n",
       "      <td>a go¥go</td>\n",
       "      <td>[a, go¥go]</td>\n",
       "    </tr>\n",
       "    <tr>\n",
       "      <th>3</th>\n",
       "      <td>a pos¥te¥ri¥o¥ri</td>\n",
       "      <td>[a, pos¥te¥ri¥o¥ri]</td>\n",
       "    </tr>\n",
       "    <tr>\n",
       "      <th>4</th>\n",
       "      <td>a pri¥o¥ri</td>\n",
       "      <td>[a, pri¥o¥ri]</td>\n",
       "    </tr>\n",
       "  </tbody>\n",
       "</table>\n",
       "</div>"
      ],
      "text/plain": [
       "              words                lists\n",
       "0      a cap¥pel¥la      [a, cap¥pel¥la]\n",
       "1     a for¥ti¥o¥ri     [a, for¥ti¥o¥ri]\n",
       "2           a go¥go           [a, go¥go]\n",
       "3  a pos¥te¥ri¥o¥ri  [a, pos¥te¥ri¥o¥ri]\n",
       "4        a pri¥o¥ri        [a, pri¥o¥ri]"
      ]
     },
     "execution_count": 4,
     "metadata": {},
     "output_type": "execute_result"
    }
   ],
   "source": [
    "df_in['lists'] = df_in['words'].apply(split_or_nan)\n",
    "df_in.dropna(inplace = True)\n",
    "df_in.head()"
   ]
  },
  {
   "cell_type": "code",
   "execution_count": 5,
   "metadata": {},
   "outputs": [
    {
     "data": {
      "text/plain": [
       "'gain¥er'"
      ]
     },
     "execution_count": 5,
     "metadata": {},
     "output_type": "execute_result"
    }
   ],
   "source": [
    "vocab = list({word for l in df_in['lists'] for word in l})\n",
    "vocab[4407]"
   ]
  },
  {
   "cell_type": "code",
   "execution_count": 6,
   "metadata": {},
   "outputs": [],
   "source": [
    "def word2bits(word):\n",
    "    import re\n",
    "    import numpy as np\n",
    "    idxs = [m.start() for m in re.finditer(r'[^a-zA-Z0-9 ].', word)]\n",
    "    arr = np.zeros(len(word) - len(idxs), dtype = np.int32)\n",
    "    arr[0] = 1\n",
    "    for i, idx in enumerate(idxs):\n",
    "        arr[idx - i] = 1\n",
    "    bits = ''.join([str(i) for i in arr])\n",
    "    return bits\n",
    "\n",
    "def count_syls(word):\n",
    "    import re\n",
    "    return len(re.findall(r'[^a-zA-Z0-9 ]', word)) + 1\n",
    "\n",
    "def clean_text(word):\n",
    "    import re\n",
    "    return re.sub(r'[^a-zA-Z0-9 ]', '', word).lower()"
   ]
  },
  {
   "cell_type": "code",
   "execution_count": 7,
   "metadata": {
    "scrolled": true
   },
   "outputs": [
    {
     "data": {
      "text/html": [
       "<div>\n",
       "<style scoped>\n",
       "    .dataframe tbody tr th:only-of-type {\n",
       "        vertical-align: middle;\n",
       "    }\n",
       "\n",
       "    .dataframe tbody tr th {\n",
       "        vertical-align: top;\n",
       "    }\n",
       "\n",
       "    .dataframe thead th {\n",
       "        text-align: right;\n",
       "    }\n",
       "</style>\n",
       "<table border=\"1\" class=\"dataframe\">\n",
       "  <thead>\n",
       "    <tr style=\"text-align: right;\">\n",
       "      <th></th>\n",
       "      <th>words</th>\n",
       "      <th>syl_seq</th>\n",
       "      <th>syls</th>\n",
       "    </tr>\n",
       "  </thead>\n",
       "  <tbody>\n",
       "    <tr>\n",
       "      <th>0</th>\n",
       "      <td>unshuddering</td>\n",
       "      <td>101000100100</td>\n",
       "      <td>4</td>\n",
       "    </tr>\n",
       "    <tr>\n",
       "      <th>1</th>\n",
       "      <td>cocoa</td>\n",
       "      <td>10100</td>\n",
       "      <td>2</td>\n",
       "    </tr>\n",
       "    <tr>\n",
       "      <th>2</th>\n",
       "      <td>lampadaire</td>\n",
       "      <td>1001010000</td>\n",
       "      <td>3</td>\n",
       "    </tr>\n",
       "    <tr>\n",
       "      <th>3</th>\n",
       "      <td>antimachination</td>\n",
       "      <td>101010001101000</td>\n",
       "      <td>6</td>\n",
       "    </tr>\n",
       "    <tr>\n",
       "      <th>4</th>\n",
       "      <td>libelled</td>\n",
       "      <td>10100000</td>\n",
       "      <td>2</td>\n",
       "    </tr>\n",
       "  </tbody>\n",
       "</table>\n",
       "</div>"
      ],
      "text/plain": [
       "             words          syl_seq  syls\n",
       "0     unshuddering     101000100100     4\n",
       "1            cocoa            10100     2\n",
       "2       lampadaire       1001010000     3\n",
       "3  antimachination  101010001101000     6\n",
       "4         libelled         10100000     2"
      ]
     },
     "execution_count": 7,
     "metadata": {},
     "output_type": "execute_result"
    }
   ],
   "source": [
    "df_out = pd.DataFrame()\n",
    "df_out['words'] = list(map(clean_text, vocab))\n",
    "df_out['syl_seq'] = list(map(word2bits, vocab))\n",
    "df_out['syls'] = list(map(count_syls, vocab))\n",
    "df_out.head()"
   ]
  },
  {
   "cell_type": "code",
   "execution_count": 11,
   "metadata": {},
   "outputs": [
    {
     "name": "stdout",
     "output_type": "stream",
     "text": [
      "Words were correctly counted!\n"
     ]
    }
   ],
   "source": [
    "failed = [i for i in range(len(df_out)) if len(df_out['words'][i]) != len(df_out['syl_seq'][i])]\n",
    "if failed:\n",
    "    print('The following indices did not get counted correctly:')\n",
    "    print(failed)\n",
    "else:\n",
    "    print('Words were correctly counted!')"
   ]
  },
  {
   "cell_type": "code",
   "execution_count": 12,
   "metadata": {},
   "outputs": [],
   "source": [
    "df_out.to_csv('data/gutsyls.tsv', sep = '\\t', encoding = 'utf-8', index = None)"
   ]
  },
  {
   "cell_type": "code",
   "execution_count": 13,
   "metadata": {},
   "outputs": [
    {
     "data": {
      "image/png": "[encoded data removed]",
      "text/plain": [
       "<Figure size 432x288 with 1 Axes>"
      ]
     },
     "metadata": {
      "needs_background": "light"
     },
     "output_type": "display_data"
    }
   ],
   "source": [
    "import matplotlib.pyplot as plt\n",
    "counts = df_out['syls'].value_counts().sort_index()\n",
    "fig, ax = plt.subplots()\n",
    "ax.bar(counts.index, counts.values)\n",
    "plt.show()"
   ]
  },
  {
   "cell_type": "code",
   "execution_count": null,
   "metadata": {},
   "outputs": [],
   "source": []
  }
 ],
 "metadata": {
  "kernelspec": {
   "display_name": "Python 3",
   "language": "python",
   "name": "python3"
  },
  "language_info": {
   "codemirror_mode": {
    "name": "ipython",
    "version": 3
   },
   "file_extension": ".py",
   "mimetype": "text/x-python",
   "name": "python",
   "nbconvert_exporter": "python",
   "pygments_lexer": "ipython3",
   "version": "3.6.8"
  }
 },
 "nbformat": 4,
 "nbformat_minor": 2
}
