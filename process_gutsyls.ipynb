{
 "cells": [
  {
   "cell_type": "code",
   "execution_count": 1,
   "metadata": {},
   "outputs": [],
   "source": [
    "import pandas as pd\n",
    "import numpy as np"
   ]
  },
  {
   "cell_type": "code",
   "execution_count": 2,
   "metadata": {},
   "outputs": [
    {
     "data": {
      "text/html": [
       "<div>\n",
       "<style scoped>\n",
       "    .dataframe tbody tr th:only-of-type {\n",
       "        vertical-align: middle;\n",
       "    }\n",
       "\n",
       "    .dataframe tbody tr th {\n",
       "        vertical-align: top;\n",
       "    }\n",
       "\n",
       "    .dataframe thead th {\n",
       "        text-align: right;\n",
       "    }\n",
       "</style>\n",
       "<table border=\"1\" class=\"dataframe\">\n",
       "  <thead>\n",
       "    <tr style=\"text-align: right;\">\n",
       "      <th></th>\n",
       "      <th>words</th>\n",
       "    </tr>\n",
       "  </thead>\n",
       "  <tbody>\n",
       "    <tr>\n",
       "      <th>0</th>\n",
       "      <td>a cap¥pel¥la</td>\n",
       "    </tr>\n",
       "    <tr>\n",
       "      <th>1</th>\n",
       "      <td>a for¥ti¥o¥ri</td>\n",
       "    </tr>\n",
       "    <tr>\n",
       "      <th>2</th>\n",
       "      <td>a go¥go</td>\n",
       "    </tr>\n",
       "    <tr>\n",
       "      <th>3</th>\n",
       "      <td>a pos¥te¥ri¥o¥ri</td>\n",
       "    </tr>\n",
       "    <tr>\n",
       "      <th>4</th>\n",
       "      <td>a pri¥o¥ri</td>\n",
       "    </tr>\n",
       "  </tbody>\n",
       "</table>\n",
       "</div>"
      ],
      "text/plain": [
       "              words\n",
       "0      a cap¥pel¥la\n",
       "1     a for¥ti¥o¥ri\n",
       "2           a go¥go\n",
       "3  a pos¥te¥ri¥o¥ri\n",
       "4        a pri¥o¥ri"
      ]
     },
     "execution_count": 2,
     "metadata": {},
     "output_type": "execute_result"
    }
   ],
   "source": [
    "df_in = pd.read_csv('data/mhyph.txt', encoding = 'latin-1', header = None, names = ['words'])\n",
    "df_in.head()"
   ]
  },
  {
   "cell_type": "code",
   "execution_count": 3,
   "metadata": {},
   "outputs": [],
   "source": [
    "# Remove all uppercase words, as they are abbreviations with no systematic hyphenation\n",
    "df_in = df_in[df_in['words'] != df_in['words'].apply(lambda x: str(x).upper())]"
   ]
  },
  {
   "cell_type": "code",
   "execution_count": 4,
   "metadata": {},
   "outputs": [],
   "source": [
    "def split_or_nan(x):\n",
    "    import re\n",
    "    try:\n",
    "        return re.sub(r'¥ |\\- |\\/ ', '', \n",
    "               re.sub(r'¥$|\\-$|\\/$', '', \n",
    "               re.sub(r'[¥\\-\\/]+([\\-\\/])|([\\-\\/])[¥\\-\\/]+|(¥)¥+', r'\\1', \n",
    "               re.sub(r'[^¥\\-\\/a-z ]', '',\n",
    "               x.lower())))).split()\n",
    "    except:\n",
    "        return np.nan"
   ]
  },
  {
   "cell_type": "code",
   "execution_count": 5,
   "metadata": {
    "scrolled": true
   },
   "outputs": [
    {
     "data": {
      "text/html": [
       "<div>\n",
       "<style scoped>\n",
       "    .dataframe tbody tr th:only-of-type {\n",
       "        vertical-align: middle;\n",
       "    }\n",
       "\n",
       "    .dataframe tbody tr th {\n",
       "        vertical-align: top;\n",
       "    }\n",
       "\n",
       "    .dataframe thead th {\n",
       "        text-align: right;\n",
       "    }\n",
       "</style>\n",
       "<table border=\"1\" class=\"dataframe\">\n",
       "  <thead>\n",
       "    <tr style=\"text-align: right;\">\n",
       "      <th></th>\n",
       "      <th>words</th>\n",
       "      <th>lists</th>\n",
       "    </tr>\n",
       "  </thead>\n",
       "  <tbody>\n",
       "    <tr>\n",
       "      <th>0</th>\n",
       "      <td>a cap¥pel¥la</td>\n",
       "      <td>[a, cap¥pel¥la]</td>\n",
       "    </tr>\n",
       "    <tr>\n",
       "      <th>1</th>\n",
       "      <td>a for¥ti¥o¥ri</td>\n",
       "      <td>[a, for¥ti¥o¥ri]</td>\n",
       "    </tr>\n",
       "    <tr>\n",
       "      <th>2</th>\n",
       "      <td>a go¥go</td>\n",
       "      <td>[a, go¥go]</td>\n",
       "    </tr>\n",
       "    <tr>\n",
       "      <th>3</th>\n",
       "      <td>a pos¥te¥ri¥o¥ri</td>\n",
       "      <td>[a, pos¥te¥ri¥o¥ri]</td>\n",
       "    </tr>\n",
       "    <tr>\n",
       "      <th>4</th>\n",
       "      <td>a pri¥o¥ri</td>\n",
       "      <td>[a, pri¥o¥ri]</td>\n",
       "    </tr>\n",
       "  </tbody>\n",
       "</table>\n",
       "</div>"
      ],
      "text/plain": [
       "              words                lists\n",
       "0      a cap¥pel¥la      [a, cap¥pel¥la]\n",
       "1     a for¥ti¥o¥ri     [a, for¥ti¥o¥ri]\n",
       "2           a go¥go           [a, go¥go]\n",
       "3  a pos¥te¥ri¥o¥ri  [a, pos¥te¥ri¥o¥ri]\n",
       "4        a pri¥o¥ri        [a, pri¥o¥ri]"
      ]
     },
     "execution_count": 5,
     "metadata": {},
     "output_type": "execute_result"
    }
   ],
   "source": [
    "df_in['lists'] = df_in['words'].apply(split_or_nan)\n",
    "df_in.dropna(inplace = True)\n",
    "df_in.head()"
   ]
  },
  {
   "cell_type": "code",
   "execution_count": 6,
   "metadata": {},
   "outputs": [
    {
     "data": {
      "text/plain": [
       "'he¥mo¥glo¥bin¥ous'"
      ]
     },
     "execution_count": 6,
     "metadata": {},
     "output_type": "execute_result"
    }
   ],
   "source": [
    "vocab = list({word for l in df_in['lists'] for word in l})\n",
    "vocab[86386]"
   ]
  },
  {
   "cell_type": "code",
   "execution_count": 7,
   "metadata": {},
   "outputs": [],
   "source": [
    "def word2bits(word):\n",
    "    import re\n",
    "    import numpy as np\n",
    "    idxs = [m.start() for m in re.finditer(r'[^a-z ].', word)]\n",
    "    arr = np.zeros(len(word) - len(idxs), dtype = np.int32)\n",
    "    arr[0] = 1\n",
    "    for i, idx in enumerate(idxs):\n",
    "        arr[idx - i] = 1\n",
    "    bits = ''.join([str(i) for i in arr])\n",
    "    return bits\n",
    "\n",
    "def count_syls(word):\n",
    "    import re\n",
    "    return len(re.findall(r'[^a-z ]', word)) + 1\n",
    "\n",
    "def clean_text(word):\n",
    "    import re\n",
    "    return re.sub(r'[^a-z ]', '', word)"
   ]
  },
  {
   "cell_type": "code",
   "execution_count": 8,
   "metadata": {},
   "outputs": [
    {
     "name": "stdout",
     "output_type": "stream",
     "text": [
      "lim¥i¥na --> 100110\n"
     ]
    }
   ],
   "source": [
    "print(f'{vocab[3]} --> {word2bits(vocab[3])}')"
   ]
  },
  {
   "cell_type": "code",
   "execution_count": 9,
   "metadata": {
    "scrolled": true
   },
   "outputs": [
    {
     "data": {
      "text/html": [
       "<div>\n",
       "<style scoped>\n",
       "    .dataframe tbody tr th:only-of-type {\n",
       "        vertical-align: middle;\n",
       "    }\n",
       "\n",
       "    .dataframe tbody tr th {\n",
       "        vertical-align: top;\n",
       "    }\n",
       "\n",
       "    .dataframe thead th {\n",
       "        text-align: right;\n",
       "    }\n",
       "</style>\n",
       "<table border=\"1\" class=\"dataframe\">\n",
       "  <thead>\n",
       "    <tr style=\"text-align: right;\">\n",
       "      <th></th>\n",
       "      <th>words</th>\n",
       "      <th>syl_seq</th>\n",
       "      <th>syls</th>\n",
       "    </tr>\n",
       "  </thead>\n",
       "  <tbody>\n",
       "    <tr>\n",
       "      <th>0</th>\n",
       "      <td>brigadiership</td>\n",
       "      <td>1000110001000</td>\n",
       "      <td>4</td>\n",
       "    </tr>\n",
       "    <tr>\n",
       "      <th>1</th>\n",
       "      <td>cauline</td>\n",
       "      <td>1001000</td>\n",
       "      <td>2</td>\n",
       "    </tr>\n",
       "    <tr>\n",
       "      <th>2</th>\n",
       "      <td>mousetrap</td>\n",
       "      <td>100001000</td>\n",
       "      <td>2</td>\n",
       "    </tr>\n",
       "    <tr>\n",
       "      <th>3</th>\n",
       "      <td>limina</td>\n",
       "      <td>100110</td>\n",
       "      <td>3</td>\n",
       "    </tr>\n",
       "    <tr>\n",
       "      <th>4</th>\n",
       "      <td>overlapping</td>\n",
       "      <td>11001001000</td>\n",
       "      <td>4</td>\n",
       "    </tr>\n",
       "  </tbody>\n",
       "</table>\n",
       "</div>"
      ],
      "text/plain": [
       "           words        syl_seq  syls\n",
       "0  brigadiership  1000110001000     4\n",
       "1        cauline        1001000     2\n",
       "2      mousetrap      100001000     2\n",
       "3         limina         100110     3\n",
       "4    overlapping    11001001000     4"
      ]
     },
     "execution_count": 9,
     "metadata": {},
     "output_type": "execute_result"
    }
   ],
   "source": [
    "df_out = pd.DataFrame()\n",
    "df_out['words'] = list(map(clean_text, vocab))\n",
    "df_out['syl_seq'] = list(map(word2bits, vocab))\n",
    "df_out['syls'] = list(map(count_syls, vocab))\n",
    "df_out.head()"
   ]
  },
  {
   "cell_type": "code",
   "execution_count": 10,
   "metadata": {},
   "outputs": [
    {
     "name": "stdout",
     "output_type": "stream",
     "text": [
      "Words were correctly counted!\n"
     ]
    }
   ],
   "source": [
    "failed = [i for i in range(len(df_out)) if len(df_out['words'][i]) != len(df_out['syl_seq'][i])]\n",
    "if failed:\n",
    "    print('The following indices did not get counted correctly:')\n",
    "    print(failed)\n",
    "else:\n",
    "    print('Words were correctly counted!')"
   ]
  },
  {
   "cell_type": "code",
   "execution_count": 11,
   "metadata": {},
   "outputs": [],
   "source": [
    "df_out.to_csv('data/gutsyls.tsv', sep = '\\t', encoding = 'utf-8', index = None)"
   ]
  },
  {
   "cell_type": "code",
   "execution_count": 13,
   "metadata": {},
   "outputs": [
    {
     "data": {
      "image/png": "[encoded data removed]",
      "text/plain": [
       "<Figure size 432x288 with 1 Axes>"
      ]
     },
     "metadata": {
      "needs_background": "light"
     },
     "output_type": "display_data"
    }
   ],
   "source": [
    "import matplotlib.pyplot as plt\n",
    "counts = df_out['syls'].value_counts().sort_index()\n",
    "fig, ax = plt.subplots()\n",
    "ax.bar(counts.index, counts.values)\n",
    "plt.show()"
   ]
  },
  {
   "cell_type": "code",
   "execution_count": null,
   "metadata": {},
   "outputs": [],
   "source": []
  }
 ],
 "metadata": {
  "kernelspec": {
   "display_name": "Python 3",
   "language": "python",
   "name": "python3"
  },
  "language_info": {
   "codemirror_mode": {
    "name": "ipython",
    "version": 3
   },
   "file_extension": ".py",
   "mimetype": "text/x-python",
   "name": "python",
   "nbconvert_exporter": "python",
   "pygments_lexer": "ipython3",
   "version": "3.6.8"
  }
 },
 "nbformat": 4,
 "nbformat_minor": 2
}
