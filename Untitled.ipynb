{
 "cells": [
  {
   "cell_type": "code",
   "execution_count": 21,
   "metadata": {},
   "outputs": [],
   "source": [
    "import pandas as pd\n",
    "import re"
   ]
  },
  {
   "cell_type": "code",
   "execution_count": 3,
   "metadata": {},
   "outputs": [
    {
     "data": {
      "text/html": [
       "<div>\n",
       "<style scoped>\n",
       "    .dataframe tbody tr th:only-of-type {\n",
       "        vertical-align: middle;\n",
       "    }\n",
       "\n",
       "    .dataframe tbody tr th {\n",
       "        vertical-align: top;\n",
       "    }\n",
       "\n",
       "    .dataframe thead th {\n",
       "        text-align: right;\n",
       "    }\n",
       "</style>\n",
       "<table border=\"1\" class=\"dataframe\">\n",
       "  <thead>\n",
       "    <tr style=\"text-align: right;\">\n",
       "      <th></th>\n",
       "      <th>tweet</th>\n",
       "      <th>count</th>\n",
       "    </tr>\n",
       "  </thead>\n",
       "  <tbody>\n",
       "    <tr>\n",
       "      <th>0</th>\n",
       "      <td>I AM DRAINING THE SWAMP</td>\n",
       "      <td>6</td>\n",
       "    </tr>\n",
       "    <tr>\n",
       "      <th>1</th>\n",
       "      <td>https://t.co/U7WxKrO6Kx</td>\n",
       "      <td>21</td>\n",
       "    </tr>\n",
       "    <tr>\n",
       "      <th>2</th>\n",
       "      <td>If that perfect phone call with the President ...</td>\n",
       "      <td>24</td>\n",
       "    </tr>\n",
       "    <tr>\n",
       "      <th>3</th>\n",
       "      <td>then no future President can EVER again speak ...</td>\n",
       "      <td>21</td>\n",
       "    </tr>\n",
       "    <tr>\n",
       "      <th>4</th>\n",
       "      <td>Sounding more and more like the so-called Whis...</td>\n",
       "      <td>23</td>\n",
       "    </tr>\n",
       "  </tbody>\n",
       "</table>\n",
       "</div>"
      ],
      "text/plain": [
       "                                               tweet  count\n",
       "0                            I AM DRAINING THE SWAMP      6\n",
       "1                            https://t.co/U7WxKrO6Kx     21\n",
       "2  If that perfect phone call with the President ...     24\n",
       "3  then no future President can EVER again speak ...     21\n",
       "4  Sounding more and more like the so-called Whis...     23"
      ]
     },
     "execution_count": 3,
     "metadata": {},
     "output_type": "execute_result"
    }
   ],
   "source": [
    "df = pd.read_csv('tweets.csv')\n",
    "df.head()"
   ]
  },
  {
   "cell_type": "code",
   "execution_count": 30,
   "metadata": {},
   "outputs": [
    {
     "data": {
      "text/plain": [
       "(74699, 2)"
      ]
     },
     "execution_count": 30,
     "metadata": {},
     "output_type": "execute_result"
    }
   ],
   "source": [
    "df.shape"
   ]
  },
  {
   "cell_type": "code",
   "execution_count": 5,
   "metadata": {},
   "outputs": [],
   "source": [
    "with open('bp-abbrev-dict.pkl', 'rb') as file_in:\n",
    "    abbrev_dict = pickle.load(file_in)"
   ]
  },
  {
   "cell_type": "code",
   "execution_count": 6,
   "metadata": {},
   "outputs": [
    {
     "data": {
      "text/plain": [
       "{'mr': 'mister',\n",
       " 'mrs': 'missis',\n",
       " 'ms': 'miss',\n",
       " 'dr': 'doctor',\n",
       " 'jr': 'junior',\n",
       " 'mt': 'mount',\n",
       " 'st': 'saint',\n",
       " 'tsp': 'teaspoon',\n",
       " 'tbsp': 'tablespoon',\n",
       " 'lb': 'pound',\n",
       " 'ave': 'avenue',\n",
       " 'blvd': 'boulevard',\n",
       " 'ln': 'lane',\n",
       " 'abbrev': 'abbreviation',\n",
       " 'esp': 'especially',\n",
       " 'etc': 'et cetera',\n",
       " 'exc': 'except',\n",
       " 'govt': 'government',\n",
       " 'cmd': 'command',\n",
       " 'kb': 'kilobyte',\n",
       " 'mb': 'megabyte',\n",
       " 'gb': 'gigabyte',\n",
       " 'ft': 'foot',\n",
       " 'mi': 'mile',\n",
       " 'km': 'kilometer',\n",
       " 'mph': 'miles-per-hour',\n",
       " 'ctrl': 'control',\n",
       " 'esq': 'esquire',\n",
       " 'jan': 'january',\n",
       " 'feb': 'february',\n",
       " 'mar': 'march',\n",
       " 'apr': 'april',\n",
       " 'jun': 'june',\n",
       " 'jul': 'july',\n",
       " 'aug': 'august',\n",
       " 'sept': 'september',\n",
       " 'oct': 'october',\n",
       " 'nov': 'november',\n",
       " 'dec': 'december',\n",
       " '%': 'percent',\n",
       " '&': 'and',\n",
       " '+': 'plus',\n",
       " '=': 'equals',\n",
       " '×': 'times',\n",
       " '÷': 'divided by',\n",
       " '@': 'at',\n",
       " '$': 'dollar',\n",
       " '¢': 'cent',\n",
       " '£': 'pound',\n",
       " '¥': 'yen',\n",
       " '€': 'euro',\n",
       " '₹': 'rupee',\n",
       " '/': 'slash',\n",
       " '\\\\': 'backslash',\n",
       " '_': 'underscore',\n",
       " '#': 'hashtag',\n",
       " '>': 'greater-than',\n",
       " '<': 'less-than',\n",
       " '©': 'copyright',\n",
       " '®': 'registered',\n",
       " '™': 'trademark',\n",
       " 'µ': 'micro',\n",
       " 'π': 'pi',\n",
       " '¼': 'one-quarter',\n",
       " '½': 'one-half',\n",
       " '⅓': 'one-third',\n",
       " '⅔': 'two-thirds',\n",
       " '⅕': 'one-fifth',\n",
       " '⅖': 'two-fifths',\n",
       " '⅗': 'three-fifths',\n",
       " '⅘': 'four-fifths',\n",
       " '⅙': 'one-sixth',\n",
       " '⅚': 'five-sixths',\n",
       " '⅛': 'one-eigth',\n",
       " '¾': 'three-quarters',\n",
       " '⅐': 'one-seventh',\n",
       " '⅜': 'three-eighths',\n",
       " '⅝': 'five-eighths',\n",
       " '⅞': 'seven-eighths',\n",
       " '⅑': 'one-ninth',\n",
       " '⅒': 'one-tenth'}"
      ]
     },
     "execution_count": 6,
     "metadata": {},
     "output_type": "execute_result"
    }
   ],
   "source": [
    "abbrev_dict"
   ]
  },
  {
   "cell_type": "code",
   "execution_count": 7,
   "metadata": {},
   "outputs": [
    {
     "name": "stderr",
     "output_type": "stream",
     "text": [
      "Using TensorFlow backend.\n"
     ]
    }
   ],
   "source": [
    "from big_phoney import BigPhoney"
   ]
  },
  {
   "cell_type": "code",
   "execution_count": 8,
   "metadata": {},
   "outputs": [
    {
     "name": "stdout",
     "output_type": "stream",
     "text": [
      "WARNING:tensorflow:From /home/leidem/.local/lib/python3.7/site-packages/tensorflow/python/framework/op_def_library.py:263: colocate_with (from tensorflow.python.framework.ops) is deprecated and will be removed in a future version.\n",
      "Instructions for updating:\n",
      "Colocations handled automatically by placer.\n",
      "WARNING:tensorflow:From /home/leidem/.local/lib/python3.7/site-packages/keras/backend/tensorflow_backend.py:3445: calling dropout (from tensorflow.python.ops.nn_ops) with keep_prob is deprecated and will be removed in a future version.\n",
      "Instructions for updating:\n",
      "Please use `rate` instead of `keep_prob`. Rate should be set to `rate = 1 - keep_prob`.\n"
     ]
    }
   ],
   "source": [
    "bp = BigPhoney()"
   ]
  },
  {
   "cell_type": "code",
   "execution_count": 22,
   "metadata": {},
   "outputs": [],
   "source": [
    "abbrevs = ['omg', 'wtf', 'cia', 'usa', 'lol', 'rofl']"
   ]
  },
  {
   "cell_type": "code",
   "execution_count": 26,
   "metadata": {},
   "outputs": [
    {
     "data": {
      "text/plain": [
       "{'o-m-g': 3, 'w-t-f': 5, 'c-i-a': 3, 'u-s-a': 3, 'l-o-l': 3, 'r-o-f-l': 4}"
      ]
     },
     "execution_count": 26,
     "metadata": {},
     "output_type": "execute_result"
    }
   ],
   "source": [
    "{re.sub(r'([a-z])(?=[^$])', r'\\1-', abbrev): bp.count_syllables(re.sub(r'([a-z])(?=[^$])', r'\\1-', abbrev)) for abbrev in abbrevs}"
   ]
  },
  {
   "cell_type": "code",
   "execution_count": null,
   "metadata": {},
   "outputs": [],
   "source": []
  }
 ],
 "metadata": {
  "kernelspec": {
   "display_name": "Python 3",
   "language": "python",
   "name": "python3"
  },
  "language_info": {
   "codemirror_mode": {
    "name": "ipython",
    "version": 3
   },
   "file_extension": ".py",
   "mimetype": "text/x-python",
   "name": "python",
   "nbconvert_exporter": "python",
   "pygments_lexer": "ipython3",
   "version": "3.7.4"
  }
 },
 "nbformat": 4,
 "nbformat_minor": 2
}
